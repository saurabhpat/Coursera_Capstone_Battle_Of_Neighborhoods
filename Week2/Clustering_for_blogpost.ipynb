{
    "nbformat_minor": 2, 
    "cells": [
        {
            "source": "# Segmenting and Clustering Neighborhoods in London City", 
            "cell_type": "markdown", 
            "metadata": {}
        }, 
        {
            "execution_count": 79, 
            "cell_type": "code", 
            "metadata": {}, 
            "outputs": [], 
            "source": "import requests \nimport pandas as pd\nimport numpy as np\nfrom bs4 import BeautifulSoup\nfrom urllib.request import urlopen\nimport re\nfrom geopy.geocoders import Nominatim # convert an address into latitude and longitude values"
        }, 
        {
            "execution_count": 80, 
            "cell_type": "code", 
            "metadata": {}, 
            "outputs": [], 
            "source": "import json # library to handle JSON files\nfrom pandas.io.json import json_normalize # tranform JSON file into a pandas dataframe\n# import k-means from clustering stage\nfrom sklearn.cluster import KMeans\n\n# Matplotlib and associated plotting modules\nimport matplotlib.cm as cm\nimport matplotlib.colors as colors\n\n# install and import folium library \n!pip -q install folium\nimport folium \n\n# import k-means from clustering stage\nfrom sklearn.cluster import KMeans"
        }, 
        {
            "execution_count": 81, 
            "cell_type": "code", 
            "metadata": {}, 
            "outputs": [], 
            "source": "URL = \"https://en.wikipedia.org/wiki/List_of_London_boroughs\"\nres = requests.get(URL).text\nsoup = BeautifulSoup(res,'lxml')\n\ndf_list = []\n# print(soup)\nfor items in soup.find('table', class_= 'wikitable sortable').find_all('tr')[1::]:\n    data = items.find_all(['td'])\n    data1 = data[0]\n    data8 = data[8]    \n    try:\n        borough_name = data1.get_text()\n        borough_name = borough_name[0]\n        ll = data8.get_text()\n        lat_long = ll[2]\n        latitude = lat_long[0]\n        longitude = lat_long[1]\n#       Append the borough name, latitude and logitude in a list\n        df_list.append((borough_name, latitude, longitude))\n    except IndexError:pass"
        }, 
        {
            "source": "### 1) Download and Explore the Dataset", 
            "cell_type": "markdown", 
            "metadata": {}
        }, 
        {
            "source": "#### Read the latitude and longitude coordinates of all Boroughs in London from a Wikipedia link", 
            "cell_type": "markdown", 
            "metadata": {}
        }, 
        {
            "execution_count": 82, 
            "cell_type": "code", 
            "metadata": {}, 
            "outputs": [], 
            "source": "URL = \"https://en.wikipedia.org/wiki/List_of_London_boroughs\"\nres = requests.get(URL).text\nsoup = BeautifulSoup(res,'lxml')\n\ndf_list = []\n# print(soup)\nfor items in soup.find('table', class_= 'wikitable sortable').find_all('tr')[1::]:\n    data = items.find_all(['td'])\n    data1 = data[0]\n    data8 = data[8]    \n    try:\n        borough_name = data1.get_text()\n        borough_name = borough_name.split('[')\n        borough_name = borough_name[0]\n        borough_name = borough_name.strip()\n        \n        ll = data8.get_text()\n        ll = ll.split('/')\n        lat_long = ll[2]\n        lat_long = lat_long.split('(')\n        lat_long = lat_long[0]\n        lat_long = lat_long.split(';')\n        latitude = lat_long[0]\n        latitude = latitude.strip()\n        longitude = lat_long[1]\n        longitude = longitude.strip()\n        longitude = longitude.replace(u'\\ufeff', '')\n        latitude = float(latitude)\n        longitude = float(longitude)\n\n#       Append the borough name, latitude and logitude in a list\n        df_list.append((borough_name, latitude, longitude))\n    except IndexError:pass"
        }, 
        {
            "execution_count": 83, 
            "cell_type": "code", 
            "metadata": {}, 
            "outputs": [], 
            "source": "df_boroughs = pd.DataFrame(df_list, columns=['Borough', 'Latitude' , 'Longitude'])"
        }, 
        {
            "execution_count": 84, 
            "cell_type": "code", 
            "metadata": {}, 
            "outputs": [
                {
                    "execution_count": 84, 
                    "metadata": {}, 
                    "data": {
                        "text/plain": "(32, 3)"
                    }, 
                    "output_type": "execute_result"
                }
            ], 
            "source": "df_boroughs.shape"
        }, 
        {
            "execution_count": 85, 
            "cell_type": "code", 
            "metadata": {}, 
            "outputs": [
                {
                    "execution_count": 85, 
                    "metadata": {}, 
                    "data": {
                        "text/html": "<div>\n<style scoped>\n    .dataframe tbody tr th:only-of-type {\n        vertical-align: middle;\n    }\n\n    .dataframe tbody tr th {\n        vertical-align: top;\n    }\n\n    .dataframe thead th {\n        text-align: right;\n    }\n</style>\n<table border=\"1\" class=\"dataframe\">\n  <thead>\n    <tr style=\"text-align: right;\">\n      <th></th>\n      <th>Borough</th>\n      <th>Latitude</th>\n      <th>Longitude</th>\n    </tr>\n  </thead>\n  <tbody>\n    <tr>\n      <th>0</th>\n      <td>Barking and Dagenham</td>\n      <td>51.5607</td>\n      <td>0.1557</td>\n    </tr>\n    <tr>\n      <th>1</th>\n      <td>Barnet</td>\n      <td>51.6252</td>\n      <td>-0.1517</td>\n    </tr>\n    <tr>\n      <th>2</th>\n      <td>Bexley</td>\n      <td>51.4549</td>\n      <td>0.1505</td>\n    </tr>\n    <tr>\n      <th>3</th>\n      <td>Brent</td>\n      <td>51.5588</td>\n      <td>-0.2817</td>\n    </tr>\n    <tr>\n      <th>4</th>\n      <td>Bromley</td>\n      <td>51.4039</td>\n      <td>0.0198</td>\n    </tr>\n  </tbody>\n</table>\n</div>", 
                        "text/plain": "                Borough  Latitude  Longitude\n0  Barking and Dagenham   51.5607     0.1557\n1                Barnet   51.6252    -0.1517\n2                Bexley   51.4549     0.1505\n3                 Brent   51.5588    -0.2817\n4               Bromley   51.4039     0.0198"
                    }, 
                    "output_type": "execute_result"
                }
            ], 
            "source": "df_boroughs.head()"
        }, 
        {
            "execution_count": 86, 
            "cell_type": "code", 
            "metadata": {}, 
            "outputs": [
                {
                    "execution_count": 86, 
                    "metadata": {}, 
                    "data": {
                        "text/plain": "Borough       object\nLatitude     float64\nLongitude    float64\ndtype: object"
                    }, 
                    "output_type": "execute_result"
                }
            ], 
            "source": "df_boroughs.dtypes"
        }, 
        {
            "execution_count": 87, 
            "cell_type": "code", 
            "metadata": {}, 
            "outputs": [
                {
                    "execution_count": 87, 
                    "metadata": {}, 
                    "data": {
                        "text/html": "<div>\n<style scoped>\n    .dataframe tbody tr th:only-of-type {\n        vertical-align: middle;\n    }\n\n    .dataframe tbody tr th {\n        vertical-align: top;\n    }\n\n    .dataframe thead th {\n        text-align: right;\n    }\n</style>\n<table border=\"1\" class=\"dataframe\">\n  <thead>\n    <tr style=\"text-align: right;\">\n      <th></th>\n      <th>Borough</th>\n      <th>Latitude</th>\n      <th>Longitude</th>\n    </tr>\n  </thead>\n  <tbody>\n    <tr>\n      <th>23</th>\n      <td>Newham</td>\n      <td>51.5077</td>\n      <td>0.0469</td>\n    </tr>\n  </tbody>\n</table>\n</div>", 
                        "text/plain": "   Borough  Latitude  Longitude\n23  Newham   51.5077     0.0469"
                    }, 
                    "output_type": "execute_result"
                }
            ], 
            "source": "df_boroughs.loc[df_boroughs['Borough'] == 'Newham']"
        }, 
        {
            "source": "#### Get the Latitude and Longitude of London City using geopy library", 
            "cell_type": "markdown", 
            "metadata": {}
        }, 
        {
            "execution_count": 88, 
            "cell_type": "code", 
            "metadata": {}, 
            "outputs": [
                {
                    "output_type": "stream", 
                    "name": "stdout", 
                    "text": "The geograpical coordinate of London City are 51.5073219, -0.1276474.\n"
                }
            ], 
            "source": "from geopy.geocoders import Nominatim # convert an address into latitude and longitude values\naddress = 'London, UK'\ngeolocator = Nominatim()\nlocation = geolocator.geocode(address)\nlatitude = location.latitude\nlongitude = location.longitude\nprint('The geograpical coordinate of London City are {}, {}.'.format(latitude, longitude))"
        }, 
        {
            "source": "#### Create a map of London with Boroughs superimposed on top.", 
            "cell_type": "markdown", 
            "metadata": {}
        }, 
        {
            "execution_count": 89, 
            "cell_type": "code", 
            "metadata": {
                "scrolled": true
            }, 
            "outputs": [
                {
                    "execution_count": 89, 
                    "metadata": {}, 
                    "data": {
                        "text/html": "<div style=\"width:100%;\"><div style=\"position:relative;width:100%;height:0;padding-bottom:60%;\"><iframe src=\"data:text/html;charset=utf-8;base64,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\" style=\"position:absolute;width:100%;height:100%;left:0;top:0;border:none !important;\" allowfullscreen webkitallowfullscreen mozallowfullscreen></iframe></div></div>", 
                        "text/plain": "<folium.folium.Map at 0x7fa6741b63c8>"
                    }, 
                    "output_type": "execute_result"
                }
            ], 
            "source": "import folium \n\n# create map of London using latitude and longitude values\nmap_london = folium.Map(location=[latitude, longitude], zoom_start=10)\n\n# add markers to map\nfor lat, lng, borough in zip(df_boroughs['Latitude'], df_boroughs['Longitude'], df_boroughs['Borough']):\n    label = '{}'.format(borough)\n    label = folium.Popup(label, parse_html=True)\n    folium.CircleMarker(\n        [lat, lng],\n        radius=5,\n        popup=label,\n        color='blue',\n        fill=True,\n        fill_color='#3186cc',\nfill_opacity=0.7).add_to(map_london)  \nmap_london    "
        }, 
        {
            "source": "## Preferred location for Asian restuarant - Newham Borough", 
            "cell_type": "markdown", 
            "metadata": {}
        }, 
        {
            "source": "#### As the borough Newham is having high asian population, we will consider to Segment and Cluster only the neighbourhoods of this borough. For that we have to get the latitude and longitude details of all the areas(neighbourhoods) of Newham borough.", 
            "cell_type": "markdown", 
            "metadata": {}
        }, 
        {
            "source": "#### Read the latitude and longitude coordinates of all the neighborhoods(areas) in Newham Borough", 
            "cell_type": "markdown", 
            "metadata": {}
        }, 
        {
            "execution_count": 90, 
            "cell_type": "code", 
            "metadata": {}, 
            "outputs": [], 
            "source": "from urllib.request import urlopen\nimport re\nURL = \"https://en.wikipedia.org/wiki/List_of_areas_of_London\"\nres = requests.get(URL).text\nsoup = BeautifulSoup(res,'lxml')\n\ncodes = []\nareas_list = []\nhref_links_list = []\nfor items in soup.find('table', class_= 'wikitable sortable').find_all('tr')[1::]:\n    data = items.find_all(['td'])\n    data0 = data[0]\n    area_name = data0.text\n\n    data1 = data[1]\n    data1 = data1.text\n    borough = data1.split('[')\n    borough_name = borough[0]\n    data5 = data[5]\n    code = data5.text\n    code = code.strip()\n    \n    if borough_name == 'Newham':\n        codes.append(code)\n        areas_list.append((borough_name,area_name,code))\n\n                \nfor link in soup.findAll('a', attrs={'href': re.compile(\"^https://tools.wmflabs.org\")}):\n            htext = link.text\n            if htext in codes:\n                hlink = link.get('href')\n                href_links_list.append((htext, hlink))"
        }, 
        {
            "source": "#### Create a DataFrame from the Areas list ", 
            "cell_type": "markdown", 
            "metadata": {}
        }, 
        {
            "execution_count": 91, 
            "cell_type": "code", 
            "metadata": {}, 
            "outputs": [], 
            "source": "df_areas = pd.DataFrame(areas_list, columns=['Borough', 'Area', 'Code'])"
        }, 
        {
            "execution_count": 92, 
            "cell_type": "code", 
            "metadata": {}, 
            "outputs": [
                {
                    "execution_count": 92, 
                    "metadata": {}, 
                    "data": {
                        "text/html": "<div>\n<style scoped>\n    .dataframe tbody tr th:only-of-type {\n        vertical-align: middle;\n    }\n\n    .dataframe tbody tr th {\n        vertical-align: top;\n    }\n\n    .dataframe thead th {\n        text-align: right;\n    }\n</style>\n<table border=\"1\" class=\"dataframe\">\n  <thead>\n    <tr style=\"text-align: right;\">\n      <th></th>\n      <th>Borough</th>\n      <th>Area</th>\n      <th>Code</th>\n    </tr>\n  </thead>\n  <tbody>\n    <tr>\n      <th>0</th>\n      <td>Newham</td>\n      <td>Beckton</td>\n      <td>TQ435815</td>\n    </tr>\n    <tr>\n      <th>1</th>\n      <td>Newham</td>\n      <td>Canning Town</td>\n      <td>TQ405815</td>\n    </tr>\n    <tr>\n      <th>2</th>\n      <td>Newham</td>\n      <td>Custom House</td>\n      <td>TQ408807</td>\n    </tr>\n    <tr>\n      <th>3</th>\n      <td>Newham</td>\n      <td>East Ham</td>\n      <td>TQ425835</td>\n    </tr>\n    <tr>\n      <th>4</th>\n      <td>Newham</td>\n      <td>Forest Gate</td>\n      <td>TQ405855</td>\n    </tr>\n  </tbody>\n</table>\n</div>", 
                        "text/plain": "  Borough          Area      Code\n0  Newham       Beckton  TQ435815\n1  Newham  Canning Town  TQ405815\n2  Newham  Custom House  TQ408807\n3  Newham      East Ham  TQ425835\n4  Newham   Forest Gate  TQ405855"
                    }, 
                    "output_type": "execute_result"
                }
            ], 
            "source": "df_areas.head()"
        }, 
        {
            "execution_count": 93, 
            "cell_type": "code", 
            "metadata": {}, 
            "outputs": [
                {
                    "execution_count": 93, 
                    "metadata": {}, 
                    "data": {
                        "text/plain": "Index(['Borough', 'Area', 'Code'], dtype='object')"
                    }, 
                    "output_type": "execute_result"
                }
            ], 
            "source": "df_areas.columns"
        }, 
        {
            "execution_count": 94, 
            "cell_type": "code", 
            "metadata": {}, 
            "outputs": [
                {
                    "execution_count": 94, 
                    "metadata": {}, 
                    "data": {
                        "text/plain": "(14, 3)"
                    }, 
                    "output_type": "execute_result"
                }
            ], 
            "source": "df_areas.shape"
        }, 
        {
            "source": "#### Create a DataFrame from the list of href links", 
            "cell_type": "markdown", 
            "metadata": {}
        }, 
        {
            "execution_count": 95, 
            "cell_type": "code", 
            "metadata": {}, 
            "outputs": [], 
            "source": "df_links = pd.DataFrame(href_links_list, columns=['Code','href'])"
        }, 
        {
            "execution_count": 96, 
            "cell_type": "code", 
            "metadata": {}, 
            "outputs": [
                {
                    "execution_count": 96, 
                    "metadata": {}, 
                    "data": {
                        "text/plain": "Index(['Code', 'href'], dtype='object')"
                    }, 
                    "output_type": "execute_result"
                }
            ], 
            "source": "df_links.columns"
        }, 
        {
            "execution_count": 97, 
            "cell_type": "code", 
            "metadata": {}, 
            "outputs": [
                {
                    "execution_count": 97, 
                    "metadata": {}, 
                    "data": {
                        "text/plain": "(15, 2)"
                    }, 
                    "output_type": "execute_result"
                }
            ], 
            "source": "df_links.shape"
        }, 
        {
            "execution_count": 98, 
            "cell_type": "code", 
            "metadata": {}, 
            "outputs": [
                {
                    "execution_count": 98, 
                    "metadata": {}, 
                    "data": {
                        "text/html": "<div>\n<style scoped>\n    .dataframe tbody tr th:only-of-type {\n        vertical-align: middle;\n    }\n\n    .dataframe tbody tr th {\n        vertical-align: top;\n    }\n\n    .dataframe thead th {\n        text-align: right;\n    }\n</style>\n<table border=\"1\" class=\"dataframe\">\n  <thead>\n    <tr style=\"text-align: right;\">\n      <th></th>\n      <th>Code</th>\n      <th>href</th>\n    </tr>\n  </thead>\n  <tbody>\n    <tr>\n      <th>0</th>\n      <td>TQ435815</td>\n      <td>https://tools.wmflabs.org/os/coor_g/?pagename=...</td>\n    </tr>\n    <tr>\n      <th>1</th>\n      <td>TQ405815</td>\n      <td>https://tools.wmflabs.org/os/coor_g/?pagename=...</td>\n    </tr>\n    <tr>\n      <th>2</th>\n      <td>TQ408807</td>\n      <td>https://tools.wmflabs.org/os/coor_g/?pagename=...</td>\n    </tr>\n    <tr>\n      <th>3</th>\n      <td>TQ425835</td>\n      <td>https://tools.wmflabs.org/os/coor_g/?pagename=...</td>\n    </tr>\n    <tr>\n      <th>4</th>\n      <td>TQ405855</td>\n      <td>https://tools.wmflabs.org/os/coor_g/?pagename=...</td>\n    </tr>\n    <tr>\n      <th>5</th>\n      <td>TQ435855</td>\n      <td>https://tools.wmflabs.org/os/coor_g/?pagename=...</td>\n    </tr>\n    <tr>\n      <th>6</th>\n      <td>TQ425855</td>\n      <td>https://tools.wmflabs.org/os/coor_g/?pagename=...</td>\n    </tr>\n    <tr>\n      <th>7</th>\n      <td>TQ391849</td>\n      <td>https://tools.wmflabs.org/os/coor_g/?pagename=...</td>\n    </tr>\n    <tr>\n      <th>8</th>\n      <td>TQ435795</td>\n      <td>https://tools.wmflabs.org/os/coor_g/?pagename=...</td>\n    </tr>\n    <tr>\n      <th>9</th>\n      <td>TQ405825</td>\n      <td>https://tools.wmflabs.org/os/coor_g/?pagename=...</td>\n    </tr>\n    <tr>\n      <th>10</th>\n      <td>TQ415795</td>\n      <td>https://tools.wmflabs.org/os/coor_g/?pagename=...</td>\n    </tr>\n    <tr>\n      <th>11</th>\n      <td>TQ385845</td>\n      <td>https://tools.wmflabs.org/os/coor_g/?pagename=...</td>\n    </tr>\n    <tr>\n      <th>12</th>\n      <td>TQ405837</td>\n      <td>https://tools.wmflabs.org/os/coor_g/?pagename=...</td>\n    </tr>\n    <tr>\n      <th>13</th>\n      <td>TQ405837</td>\n      <td>https://tools.wmflabs.org/os/coor_g/?pagename=...</td>\n    </tr>\n    <tr>\n      <th>14</th>\n      <td>TQ435795</td>\n      <td>https://tools.wmflabs.org/os/coor_g/?pagename=...</td>\n    </tr>\n  </tbody>\n</table>\n</div>", 
                        "text/plain": "        Code                                               href\n0   TQ435815  https://tools.wmflabs.org/os/coor_g/?pagename=...\n1   TQ405815  https://tools.wmflabs.org/os/coor_g/?pagename=...\n2   TQ408807  https://tools.wmflabs.org/os/coor_g/?pagename=...\n3   TQ425835  https://tools.wmflabs.org/os/coor_g/?pagename=...\n4   TQ405855  https://tools.wmflabs.org/os/coor_g/?pagename=...\n5   TQ435855  https://tools.wmflabs.org/os/coor_g/?pagename=...\n6   TQ425855  https://tools.wmflabs.org/os/coor_g/?pagename=...\n7   TQ391849  https://tools.wmflabs.org/os/coor_g/?pagename=...\n8   TQ435795  https://tools.wmflabs.org/os/coor_g/?pagename=...\n9   TQ405825  https://tools.wmflabs.org/os/coor_g/?pagename=...\n10  TQ415795  https://tools.wmflabs.org/os/coor_g/?pagename=...\n11  TQ385845  https://tools.wmflabs.org/os/coor_g/?pagename=...\n12  TQ405837  https://tools.wmflabs.org/os/coor_g/?pagename=...\n13  TQ405837  https://tools.wmflabs.org/os/coor_g/?pagename=...\n14  TQ435795  https://tools.wmflabs.org/os/coor_g/?pagename=..."
                    }, 
                    "output_type": "execute_result"
                }
            ], 
            "source": "df_links"
        }, 
        {
            "source": "#### Merge the Areas and href Links DataFrames", 
            "cell_type": "markdown", 
            "metadata": {}
        }, 
        {
            "execution_count": 99, 
            "cell_type": "code", 
            "metadata": {}, 
            "outputs": [], 
            "source": "cols = df_links.columns.difference(df_areas.columns)"
        }, 
        {
            "execution_count": 100, 
            "cell_type": "code", 
            "metadata": {}, 
            "outputs": [
                {
                    "execution_count": 100, 
                    "metadata": {}, 
                    "data": {
                        "text/plain": "Index(['href'], dtype='object')"
                    }, 
                    "output_type": "execute_result"
                }
            ], 
            "source": "cols"
        }, 
        {
            "execution_count": 101, 
            "cell_type": "code", 
            "metadata": {}, 
            "outputs": [], 
            "source": "df_areas_links = pd.concat([df_areas, df_links[cols]], axis=1)"
        }, 
        {
            "execution_count": 102, 
            "cell_type": "code", 
            "metadata": {}, 
            "outputs": [
                {
                    "execution_count": 102, 
                    "metadata": {}, 
                    "data": {
                        "text/plain": "(15, 4)"
                    }, 
                    "output_type": "execute_result"
                }
            ], 
            "source": "df_areas_links.shape"
        }, 
        {
            "execution_count": 103, 
            "cell_type": "code", 
            "metadata": {}, 
            "outputs": [
                {
                    "execution_count": 103, 
                    "metadata": {}, 
                    "data": {
                        "text/html": "<div>\n<style scoped>\n    .dataframe tbody tr th:only-of-type {\n        vertical-align: middle;\n    }\n\n    .dataframe tbody tr th {\n        vertical-align: top;\n    }\n\n    .dataframe thead th {\n        text-align: right;\n    }\n</style>\n<table border=\"1\" class=\"dataframe\">\n  <thead>\n    <tr style=\"text-align: right;\">\n      <th></th>\n      <th>Borough</th>\n      <th>Area</th>\n      <th>Code</th>\n      <th>href</th>\n    </tr>\n  </thead>\n  <tbody>\n    <tr>\n      <th>0</th>\n      <td>Newham</td>\n      <td>Beckton</td>\n      <td>TQ435815</td>\n      <td>https://tools.wmflabs.org/os/coor_g/?pagename=...</td>\n    </tr>\n    <tr>\n      <th>1</th>\n      <td>Newham</td>\n      <td>Canning Town</td>\n      <td>TQ405815</td>\n      <td>https://tools.wmflabs.org/os/coor_g/?pagename=...</td>\n    </tr>\n    <tr>\n      <th>2</th>\n      <td>Newham</td>\n      <td>Custom House</td>\n      <td>TQ408807</td>\n      <td>https://tools.wmflabs.org/os/coor_g/?pagename=...</td>\n    </tr>\n    <tr>\n      <th>3</th>\n      <td>Newham</td>\n      <td>East Ham</td>\n      <td>TQ425835</td>\n      <td>https://tools.wmflabs.org/os/coor_g/?pagename=...</td>\n    </tr>\n    <tr>\n      <th>4</th>\n      <td>Newham</td>\n      <td>Forest Gate</td>\n      <td>TQ405855</td>\n      <td>https://tools.wmflabs.org/os/coor_g/?pagename=...</td>\n    </tr>\n    <tr>\n      <th>5</th>\n      <td>Newham</td>\n      <td>Little Ilford</td>\n      <td>TQ435855</td>\n      <td>https://tools.wmflabs.org/os/coor_g/?pagename=...</td>\n    </tr>\n    <tr>\n      <th>6</th>\n      <td>Newham</td>\n      <td>Manor Park</td>\n      <td>TQ425855</td>\n      <td>https://tools.wmflabs.org/os/coor_g/?pagename=...</td>\n    </tr>\n    <tr>\n      <th>7</th>\n      <td>Newham</td>\n      <td>Maryland</td>\n      <td>TQ391849</td>\n      <td>https://tools.wmflabs.org/os/coor_g/?pagename=...</td>\n    </tr>\n    <tr>\n      <th>8</th>\n      <td>Newham</td>\n      <td>North Woolwich</td>\n      <td>TQ435795</td>\n      <td>https://tools.wmflabs.org/os/coor_g/?pagename=...</td>\n    </tr>\n    <tr>\n      <th>9</th>\n      <td>Newham</td>\n      <td>Plaistow</td>\n      <td>TQ405825</td>\n      <td>https://tools.wmflabs.org/os/coor_g/?pagename=...</td>\n    </tr>\n    <tr>\n      <th>10</th>\n      <td>Newham</td>\n      <td>Silvertown</td>\n      <td>TQ415795</td>\n      <td>https://tools.wmflabs.org/os/coor_g/?pagename=...</td>\n    </tr>\n    <tr>\n      <th>11</th>\n      <td>Newham</td>\n      <td>Stratford</td>\n      <td>TQ385845</td>\n      <td>https://tools.wmflabs.org/os/coor_g/?pagename=...</td>\n    </tr>\n    <tr>\n      <th>12</th>\n      <td>Newham</td>\n      <td>Upton Park</td>\n      <td>TQ405837</td>\n      <td>https://tools.wmflabs.org/os/coor_g/?pagename=...</td>\n    </tr>\n    <tr>\n      <th>13</th>\n      <td>Newham</td>\n      <td>West Ham</td>\n      <td>TQ405837</td>\n      <td>https://tools.wmflabs.org/os/coor_g/?pagename=...</td>\n    </tr>\n    <tr>\n      <th>14</th>\n      <td>NaN</td>\n      <td>NaN</td>\n      <td>NaN</td>\n      <td>https://tools.wmflabs.org/os/coor_g/?pagename=...</td>\n    </tr>\n  </tbody>\n</table>\n</div>", 
                        "text/plain": "   Borough            Area      Code  \\\n0   Newham         Beckton  TQ435815   \n1   Newham    Canning Town  TQ405815   \n2   Newham    Custom House  TQ408807   \n3   Newham        East Ham  TQ425835   \n4   Newham     Forest Gate  TQ405855   \n5   Newham   Little Ilford  TQ435855   \n6   Newham      Manor Park  TQ425855   \n7   Newham        Maryland  TQ391849   \n8   Newham  North Woolwich  TQ435795   \n9   Newham        Plaistow  TQ405825   \n10  Newham      Silvertown  TQ415795   \n11  Newham       Stratford  TQ385845   \n12  Newham      Upton Park  TQ405837   \n13  Newham        West Ham  TQ405837   \n14     NaN             NaN       NaN   \n\n                                                 href  \n0   https://tools.wmflabs.org/os/coor_g/?pagename=...  \n1   https://tools.wmflabs.org/os/coor_g/?pagename=...  \n2   https://tools.wmflabs.org/os/coor_g/?pagename=...  \n3   https://tools.wmflabs.org/os/coor_g/?pagename=...  \n4   https://tools.wmflabs.org/os/coor_g/?pagename=...  \n5   https://tools.wmflabs.org/os/coor_g/?pagename=...  \n6   https://tools.wmflabs.org/os/coor_g/?pagename=...  \n7   https://tools.wmflabs.org/os/coor_g/?pagename=...  \n8   https://tools.wmflabs.org/os/coor_g/?pagename=...  \n9   https://tools.wmflabs.org/os/coor_g/?pagename=...  \n10  https://tools.wmflabs.org/os/coor_g/?pagename=...  \n11  https://tools.wmflabs.org/os/coor_g/?pagename=...  \n12  https://tools.wmflabs.org/os/coor_g/?pagename=...  \n13  https://tools.wmflabs.org/os/coor_g/?pagename=...  \n14  https://tools.wmflabs.org/os/coor_g/?pagename=...  "
                    }, 
                    "output_type": "execute_result"
                }
            ], 
            "source": "df_areas_links"
        }, 
        {
            "source": "#### Remove the row where there is no data ", 
            "cell_type": "markdown", 
            "metadata": {}
        }, 
        {
            "execution_count": 104, 
            "cell_type": "code", 
            "metadata": {}, 
            "outputs": [], 
            "source": "df_areas_links = df_areas_links.dropna(how='any')"
        }, 
        {
            "execution_count": 105, 
            "cell_type": "code", 
            "metadata": {}, 
            "outputs": [
                {
                    "execution_count": 105, 
                    "metadata": {}, 
                    "data": {
                        "text/html": "<div>\n<style scoped>\n    .dataframe tbody tr th:only-of-type {\n        vertical-align: middle;\n    }\n\n    .dataframe tbody tr th {\n        vertical-align: top;\n    }\n\n    .dataframe thead th {\n        text-align: right;\n    }\n</style>\n<table border=\"1\" class=\"dataframe\">\n  <thead>\n    <tr style=\"text-align: right;\">\n      <th></th>\n      <th>Borough</th>\n      <th>Area</th>\n      <th>Code</th>\n      <th>href</th>\n    </tr>\n  </thead>\n  <tbody>\n    <tr>\n      <th>0</th>\n      <td>Newham</td>\n      <td>Beckton</td>\n      <td>TQ435815</td>\n      <td>https://tools.wmflabs.org/os/coor_g/?pagename=...</td>\n    </tr>\n    <tr>\n      <th>1</th>\n      <td>Newham</td>\n      <td>Canning Town</td>\n      <td>TQ405815</td>\n      <td>https://tools.wmflabs.org/os/coor_g/?pagename=...</td>\n    </tr>\n    <tr>\n      <th>2</th>\n      <td>Newham</td>\n      <td>Custom House</td>\n      <td>TQ408807</td>\n      <td>https://tools.wmflabs.org/os/coor_g/?pagename=...</td>\n    </tr>\n    <tr>\n      <th>3</th>\n      <td>Newham</td>\n      <td>East Ham</td>\n      <td>TQ425835</td>\n      <td>https://tools.wmflabs.org/os/coor_g/?pagename=...</td>\n    </tr>\n    <tr>\n      <th>4</th>\n      <td>Newham</td>\n      <td>Forest Gate</td>\n      <td>TQ405855</td>\n      <td>https://tools.wmflabs.org/os/coor_g/?pagename=...</td>\n    </tr>\n    <tr>\n      <th>5</th>\n      <td>Newham</td>\n      <td>Little Ilford</td>\n      <td>TQ435855</td>\n      <td>https://tools.wmflabs.org/os/coor_g/?pagename=...</td>\n    </tr>\n    <tr>\n      <th>6</th>\n      <td>Newham</td>\n      <td>Manor Park</td>\n      <td>TQ425855</td>\n      <td>https://tools.wmflabs.org/os/coor_g/?pagename=...</td>\n    </tr>\n    <tr>\n      <th>7</th>\n      <td>Newham</td>\n      <td>Maryland</td>\n      <td>TQ391849</td>\n      <td>https://tools.wmflabs.org/os/coor_g/?pagename=...</td>\n    </tr>\n    <tr>\n      <th>8</th>\n      <td>Newham</td>\n      <td>North Woolwich</td>\n      <td>TQ435795</td>\n      <td>https://tools.wmflabs.org/os/coor_g/?pagename=...</td>\n    </tr>\n    <tr>\n      <th>9</th>\n      <td>Newham</td>\n      <td>Plaistow</td>\n      <td>TQ405825</td>\n      <td>https://tools.wmflabs.org/os/coor_g/?pagename=...</td>\n    </tr>\n    <tr>\n      <th>10</th>\n      <td>Newham</td>\n      <td>Silvertown</td>\n      <td>TQ415795</td>\n      <td>https://tools.wmflabs.org/os/coor_g/?pagename=...</td>\n    </tr>\n    <tr>\n      <th>11</th>\n      <td>Newham</td>\n      <td>Stratford</td>\n      <td>TQ385845</td>\n      <td>https://tools.wmflabs.org/os/coor_g/?pagename=...</td>\n    </tr>\n    <tr>\n      <th>12</th>\n      <td>Newham</td>\n      <td>Upton Park</td>\n      <td>TQ405837</td>\n      <td>https://tools.wmflabs.org/os/coor_g/?pagename=...</td>\n    </tr>\n    <tr>\n      <th>13</th>\n      <td>Newham</td>\n      <td>West Ham</td>\n      <td>TQ405837</td>\n      <td>https://tools.wmflabs.org/os/coor_g/?pagename=...</td>\n    </tr>\n  </tbody>\n</table>\n</div>", 
                        "text/plain": "   Borough            Area      Code  \\\n0   Newham         Beckton  TQ435815   \n1   Newham    Canning Town  TQ405815   \n2   Newham    Custom House  TQ408807   \n3   Newham        East Ham  TQ425835   \n4   Newham     Forest Gate  TQ405855   \n5   Newham   Little Ilford  TQ435855   \n6   Newham      Manor Park  TQ425855   \n7   Newham        Maryland  TQ391849   \n8   Newham  North Woolwich  TQ435795   \n9   Newham        Plaistow  TQ405825   \n10  Newham      Silvertown  TQ415795   \n11  Newham       Stratford  TQ385845   \n12  Newham      Upton Park  TQ405837   \n13  Newham        West Ham  TQ405837   \n\n                                                 href  \n0   https://tools.wmflabs.org/os/coor_g/?pagename=...  \n1   https://tools.wmflabs.org/os/coor_g/?pagename=...  \n2   https://tools.wmflabs.org/os/coor_g/?pagename=...  \n3   https://tools.wmflabs.org/os/coor_g/?pagename=...  \n4   https://tools.wmflabs.org/os/coor_g/?pagename=...  \n5   https://tools.wmflabs.org/os/coor_g/?pagename=...  \n6   https://tools.wmflabs.org/os/coor_g/?pagename=...  \n7   https://tools.wmflabs.org/os/coor_g/?pagename=...  \n8   https://tools.wmflabs.org/os/coor_g/?pagename=...  \n9   https://tools.wmflabs.org/os/coor_g/?pagename=...  \n10  https://tools.wmflabs.org/os/coor_g/?pagename=...  \n11  https://tools.wmflabs.org/os/coor_g/?pagename=...  \n12  https://tools.wmflabs.org/os/coor_g/?pagename=...  \n13  https://tools.wmflabs.org/os/coor_g/?pagename=...  "
                    }, 
                    "output_type": "execute_result"
                }
            ], 
            "source": "df_areas_links"
        }, 
        {
            "source": "#### Get the geo co-ordinates for all the areas in the Newham borough", 
            "cell_type": "markdown", 
            "metadata": {}
        }, 
        {
            "execution_count": 106, 
            "cell_type": "code", 
            "metadata": {}, 
            "outputs": [
                {
                    "output_type": "stream", 
                    "name": "stdout", 
                    "text": "[('TQ435815', 51.514642, 0.067375), ('TQ405815', 51.515396, 0.024169), ('TQ408807', 51.508133, 0.028171), ('TQ425835', 51.532867, 0.053782), ('TQ405855', 51.551339, 0.025765), ('TQ435855', 51.550584, 0.069004), ('TQ425855', 51.550838, 0.054591), ('TQ391849', 51.546294, 0.005349), ('TQ435795', 51.496671, 0.066561), ('TQ405825', 51.524382, 0.024568), ('TQ415795', 51.497175, 0.037769), ('TQ385845', 51.542847, -0.003456), ('TQ405837', 51.535165, 0.025046), ('TQ405837', 51.535165, 0.025046)]\n"
                }
            ], 
            "source": "geo_codes = []\nfor row in df_areas_links.itertuples():\n    url = row.href\n    code = row.Code\n    res = requests.get(url).text\n    soup1 = BeautifulSoup(res,'lxml')\n    \n    for lat in soup1.find('span',{'class':'latitude'}):\n        latitude = lat\n        latitude = float(latitude)\n            \n    for long in soup1.find('span',{'class':'longitude'}):    \n        longitude = long\n        longitude = float(longitude)\n        \n    geo_codes.append((code, latitude, longitude))\n\nprint(geo_codes)    "
        }, 
        {
            "source": "#### Create a DataFrame from the above list", 
            "cell_type": "markdown", 
            "metadata": {}
        }, 
        {
            "execution_count": 107, 
            "cell_type": "code", 
            "metadata": {}, 
            "outputs": [], 
            "source": "df_geo_codes = pd.DataFrame(geo_codes, columns=['Code','Latitude','Longitude'])"
        }, 
        {
            "execution_count": 108, 
            "cell_type": "code", 
            "metadata": {}, 
            "outputs": [
                {
                    "execution_count": 108, 
                    "metadata": {}, 
                    "data": {
                        "text/html": "<div>\n<style scoped>\n    .dataframe tbody tr th:only-of-type {\n        vertical-align: middle;\n    }\n\n    .dataframe tbody tr th {\n        vertical-align: top;\n    }\n\n    .dataframe thead th {\n        text-align: right;\n    }\n</style>\n<table border=\"1\" class=\"dataframe\">\n  <thead>\n    <tr style=\"text-align: right;\">\n      <th></th>\n      <th>Code</th>\n      <th>Latitude</th>\n      <th>Longitude</th>\n    </tr>\n  </thead>\n  <tbody>\n    <tr>\n      <th>0</th>\n      <td>TQ435815</td>\n      <td>51.514642</td>\n      <td>0.067375</td>\n    </tr>\n    <tr>\n      <th>1</th>\n      <td>TQ405815</td>\n      <td>51.515396</td>\n      <td>0.024169</td>\n    </tr>\n    <tr>\n      <th>2</th>\n      <td>TQ408807</td>\n      <td>51.508133</td>\n      <td>0.028171</td>\n    </tr>\n    <tr>\n      <th>3</th>\n      <td>TQ425835</td>\n      <td>51.532867</td>\n      <td>0.053782</td>\n    </tr>\n    <tr>\n      <th>4</th>\n      <td>TQ405855</td>\n      <td>51.551339</td>\n      <td>0.025765</td>\n    </tr>\n    <tr>\n      <th>5</th>\n      <td>TQ435855</td>\n      <td>51.550584</td>\n      <td>0.069004</td>\n    </tr>\n    <tr>\n      <th>6</th>\n      <td>TQ425855</td>\n      <td>51.550838</td>\n      <td>0.054591</td>\n    </tr>\n    <tr>\n      <th>7</th>\n      <td>TQ391849</td>\n      <td>51.546294</td>\n      <td>0.005349</td>\n    </tr>\n    <tr>\n      <th>8</th>\n      <td>TQ435795</td>\n      <td>51.496671</td>\n      <td>0.066561</td>\n    </tr>\n    <tr>\n      <th>9</th>\n      <td>TQ405825</td>\n      <td>51.524382</td>\n      <td>0.024568</td>\n    </tr>\n    <tr>\n      <th>10</th>\n      <td>TQ415795</td>\n      <td>51.497175</td>\n      <td>0.037769</td>\n    </tr>\n    <tr>\n      <th>11</th>\n      <td>TQ385845</td>\n      <td>51.542847</td>\n      <td>-0.003456</td>\n    </tr>\n    <tr>\n      <th>12</th>\n      <td>TQ405837</td>\n      <td>51.535165</td>\n      <td>0.025046</td>\n    </tr>\n    <tr>\n      <th>13</th>\n      <td>TQ405837</td>\n      <td>51.535165</td>\n      <td>0.025046</td>\n    </tr>\n  </tbody>\n</table>\n</div>", 
                        "text/plain": "        Code   Latitude  Longitude\n0   TQ435815  51.514642   0.067375\n1   TQ405815  51.515396   0.024169\n2   TQ408807  51.508133   0.028171\n3   TQ425835  51.532867   0.053782\n4   TQ405855  51.551339   0.025765\n5   TQ435855  51.550584   0.069004\n6   TQ425855  51.550838   0.054591\n7   TQ391849  51.546294   0.005349\n8   TQ435795  51.496671   0.066561\n9   TQ405825  51.524382   0.024568\n10  TQ415795  51.497175   0.037769\n11  TQ385845  51.542847  -0.003456\n12  TQ405837  51.535165   0.025046\n13  TQ405837  51.535165   0.025046"
                    }, 
                    "output_type": "execute_result"
                }
            ], 
            "source": "df_geo_codes"
        }, 
        {
            "source": "#### Now merge the Neighborhoods and Geocodes DataFrames", 
            "cell_type": "markdown", 
            "metadata": {}
        }, 
        {
            "execution_count": 109, 
            "cell_type": "code", 
            "metadata": {}, 
            "outputs": [
                {
                    "execution_count": 109, 
                    "metadata": {}, 
                    "data": {
                        "text/plain": "Index(['Borough', 'Area', 'Code'], dtype='object')"
                    }, 
                    "output_type": "execute_result"
                }
            ], 
            "source": "df_areas.columns"
        }, 
        {
            "execution_count": 110, 
            "cell_type": "code", 
            "metadata": {}, 
            "outputs": [
                {
                    "execution_count": 110, 
                    "metadata": {}, 
                    "data": {
                        "text/plain": "(14, 3)"
                    }, 
                    "output_type": "execute_result"
                }
            ], 
            "source": "df_areas.shape"
        }, 
        {
            "execution_count": 111, 
            "cell_type": "code", 
            "metadata": {}, 
            "outputs": [
                {
                    "execution_count": 111, 
                    "metadata": {}, 
                    "data": {
                        "text/plain": "Index(['Code', 'Latitude', 'Longitude'], dtype='object')"
                    }, 
                    "output_type": "execute_result"
                }
            ], 
            "source": "df_geo_codes.columns"
        }, 
        {
            "execution_count": 112, 
            "cell_type": "code", 
            "metadata": {}, 
            "outputs": [
                {
                    "execution_count": 112, 
                    "metadata": {}, 
                    "data": {
                        "text/plain": "(14, 3)"
                    }, 
                    "output_type": "execute_result"
                }
            ], 
            "source": "df_geo_codes.shape"
        }, 
        {
            "execution_count": 113, 
            "cell_type": "code", 
            "metadata": {}, 
            "outputs": [], 
            "source": "cols = df_geo_codes.columns.difference(df_areas.columns)"
        }, 
        {
            "execution_count": 114, 
            "cell_type": "code", 
            "metadata": {}, 
            "outputs": [
                {
                    "execution_count": 114, 
                    "metadata": {}, 
                    "data": {
                        "text/plain": "Index(['Latitude', 'Longitude'], dtype='object')"
                    }, 
                    "output_type": "execute_result"
                }
            ], 
            "source": "cols"
        }, 
        {
            "execution_count": 115, 
            "cell_type": "code", 
            "metadata": {}, 
            "outputs": [], 
            "source": "Newham_borough = pd.concat([df_areas, df_geo_codes[cols]], axis=1)"
        }, 
        {
            "execution_count": 116, 
            "cell_type": "code", 
            "metadata": {}, 
            "outputs": [
                {
                    "execution_count": 116, 
                    "metadata": {}, 
                    "data": {
                        "text/html": "<div>\n<style scoped>\n    .dataframe tbody tr th:only-of-type {\n        vertical-align: middle;\n    }\n\n    .dataframe tbody tr th {\n        vertical-align: top;\n    }\n\n    .dataframe thead th {\n        text-align: right;\n    }\n</style>\n<table border=\"1\" class=\"dataframe\">\n  <thead>\n    <tr style=\"text-align: right;\">\n      <th></th>\n      <th>Borough</th>\n      <th>Area</th>\n      <th>Code</th>\n      <th>Latitude</th>\n      <th>Longitude</th>\n    </tr>\n  </thead>\n  <tbody>\n    <tr>\n      <th>0</th>\n      <td>Newham</td>\n      <td>Beckton</td>\n      <td>TQ435815</td>\n      <td>51.514642</td>\n      <td>0.067375</td>\n    </tr>\n    <tr>\n      <th>1</th>\n      <td>Newham</td>\n      <td>Canning Town</td>\n      <td>TQ405815</td>\n      <td>51.515396</td>\n      <td>0.024169</td>\n    </tr>\n    <tr>\n      <th>2</th>\n      <td>Newham</td>\n      <td>Custom House</td>\n      <td>TQ408807</td>\n      <td>51.508133</td>\n      <td>0.028171</td>\n    </tr>\n    <tr>\n      <th>3</th>\n      <td>Newham</td>\n      <td>East Ham</td>\n      <td>TQ425835</td>\n      <td>51.532867</td>\n      <td>0.053782</td>\n    </tr>\n    <tr>\n      <th>4</th>\n      <td>Newham</td>\n      <td>Forest Gate</td>\n      <td>TQ405855</td>\n      <td>51.551339</td>\n      <td>0.025765</td>\n    </tr>\n    <tr>\n      <th>5</th>\n      <td>Newham</td>\n      <td>Little Ilford</td>\n      <td>TQ435855</td>\n      <td>51.550584</td>\n      <td>0.069004</td>\n    </tr>\n    <tr>\n      <th>6</th>\n      <td>Newham</td>\n      <td>Manor Park</td>\n      <td>TQ425855</td>\n      <td>51.550838</td>\n      <td>0.054591</td>\n    </tr>\n    <tr>\n      <th>7</th>\n      <td>Newham</td>\n      <td>Maryland</td>\n      <td>TQ391849</td>\n      <td>51.546294</td>\n      <td>0.005349</td>\n    </tr>\n    <tr>\n      <th>8</th>\n      <td>Newham</td>\n      <td>North Woolwich</td>\n      <td>TQ435795</td>\n      <td>51.496671</td>\n      <td>0.066561</td>\n    </tr>\n    <tr>\n      <th>9</th>\n      <td>Newham</td>\n      <td>Plaistow</td>\n      <td>TQ405825</td>\n      <td>51.524382</td>\n      <td>0.024568</td>\n    </tr>\n    <tr>\n      <th>10</th>\n      <td>Newham</td>\n      <td>Silvertown</td>\n      <td>TQ415795</td>\n      <td>51.497175</td>\n      <td>0.037769</td>\n    </tr>\n    <tr>\n      <th>11</th>\n      <td>Newham</td>\n      <td>Stratford</td>\n      <td>TQ385845</td>\n      <td>51.542847</td>\n      <td>-0.003456</td>\n    </tr>\n    <tr>\n      <th>12</th>\n      <td>Newham</td>\n      <td>Upton Park</td>\n      <td>TQ405837</td>\n      <td>51.535165</td>\n      <td>0.025046</td>\n    </tr>\n    <tr>\n      <th>13</th>\n      <td>Newham</td>\n      <td>West Ham</td>\n      <td>TQ405837</td>\n      <td>51.535165</td>\n      <td>0.025046</td>\n    </tr>\n  </tbody>\n</table>\n</div>", 
                        "text/plain": "   Borough            Area      Code   Latitude  Longitude\n0   Newham         Beckton  TQ435815  51.514642   0.067375\n1   Newham    Canning Town  TQ405815  51.515396   0.024169\n2   Newham    Custom House  TQ408807  51.508133   0.028171\n3   Newham        East Ham  TQ425835  51.532867   0.053782\n4   Newham     Forest Gate  TQ405855  51.551339   0.025765\n5   Newham   Little Ilford  TQ435855  51.550584   0.069004\n6   Newham      Manor Park  TQ425855  51.550838   0.054591\n7   Newham        Maryland  TQ391849  51.546294   0.005349\n8   Newham  North Woolwich  TQ435795  51.496671   0.066561\n9   Newham        Plaistow  TQ405825  51.524382   0.024568\n10  Newham      Silvertown  TQ415795  51.497175   0.037769\n11  Newham       Stratford  TQ385845  51.542847  -0.003456\n12  Newham      Upton Park  TQ405837  51.535165   0.025046\n13  Newham        West Ham  TQ405837  51.535165   0.025046"
                    }, 
                    "output_type": "execute_result"
                }
            ], 
            "source": "Newham_borough"
        }, 
        {
            "source": "#### Change the name of the column 'Area' to 'Neighborhood '", 
            "cell_type": "markdown", 
            "metadata": {}
        }, 
        {
            "execution_count": 117, 
            "cell_type": "code", 
            "metadata": {}, 
            "outputs": [], 
            "source": "Newham_borough = Newham_borough.rename(columns={'Area' :'Neighborhood'})"
        }, 
        {
            "source": "#### We do not need the column Code for our further analysis, so we will drop it ", 
            "cell_type": "markdown", 
            "metadata": {}
        }, 
        {
            "execution_count": 118, 
            "cell_type": "code", 
            "metadata": {}, 
            "outputs": [], 
            "source": "Newham_borough.drop(['Code'], axis=1, inplace=True)"
        }, 
        {
            "execution_count": 119, 
            "cell_type": "code", 
            "metadata": {}, 
            "outputs": [
                {
                    "execution_count": 119, 
                    "metadata": {}, 
                    "data": {
                        "text/plain": "Index(['Borough', 'Neighborhood', 'Latitude', 'Longitude'], dtype='object')"
                    }, 
                    "output_type": "execute_result"
                }
            ], 
            "source": "Newham_borough.columns"
        }, 
        {
            "execution_count": 120, 
            "cell_type": "code", 
            "metadata": {}, 
            "outputs": [
                {
                    "execution_count": 120, 
                    "metadata": {}, 
                    "data": {
                        "text/html": "<div>\n<style scoped>\n    .dataframe tbody tr th:only-of-type {\n        vertical-align: middle;\n    }\n\n    .dataframe tbody tr th {\n        vertical-align: top;\n    }\n\n    .dataframe thead th {\n        text-align: right;\n    }\n</style>\n<table border=\"1\" class=\"dataframe\">\n  <thead>\n    <tr style=\"text-align: right;\">\n      <th></th>\n      <th>Borough</th>\n      <th>Neighborhood</th>\n      <th>Latitude</th>\n      <th>Longitude</th>\n    </tr>\n  </thead>\n  <tbody>\n    <tr>\n      <th>0</th>\n      <td>Newham</td>\n      <td>Beckton</td>\n      <td>51.514642</td>\n      <td>0.067375</td>\n    </tr>\n    <tr>\n      <th>1</th>\n      <td>Newham</td>\n      <td>Canning Town</td>\n      <td>51.515396</td>\n      <td>0.024169</td>\n    </tr>\n    <tr>\n      <th>2</th>\n      <td>Newham</td>\n      <td>Custom House</td>\n      <td>51.508133</td>\n      <td>0.028171</td>\n    </tr>\n    <tr>\n      <th>3</th>\n      <td>Newham</td>\n      <td>East Ham</td>\n      <td>51.532867</td>\n      <td>0.053782</td>\n    </tr>\n    <tr>\n      <th>4</th>\n      <td>Newham</td>\n      <td>Forest Gate</td>\n      <td>51.551339</td>\n      <td>0.025765</td>\n    </tr>\n    <tr>\n      <th>5</th>\n      <td>Newham</td>\n      <td>Little Ilford</td>\n      <td>51.550584</td>\n      <td>0.069004</td>\n    </tr>\n    <tr>\n      <th>6</th>\n      <td>Newham</td>\n      <td>Manor Park</td>\n      <td>51.550838</td>\n      <td>0.054591</td>\n    </tr>\n    <tr>\n      <th>7</th>\n      <td>Newham</td>\n      <td>Maryland</td>\n      <td>51.546294</td>\n      <td>0.005349</td>\n    </tr>\n    <tr>\n      <th>8</th>\n      <td>Newham</td>\n      <td>North Woolwich</td>\n      <td>51.496671</td>\n      <td>0.066561</td>\n    </tr>\n    <tr>\n      <th>9</th>\n      <td>Newham</td>\n      <td>Plaistow</td>\n      <td>51.524382</td>\n      <td>0.024568</td>\n    </tr>\n    <tr>\n      <th>10</th>\n      <td>Newham</td>\n      <td>Silvertown</td>\n      <td>51.497175</td>\n      <td>0.037769</td>\n    </tr>\n    <tr>\n      <th>11</th>\n      <td>Newham</td>\n      <td>Stratford</td>\n      <td>51.542847</td>\n      <td>-0.003456</td>\n    </tr>\n    <tr>\n      <th>12</th>\n      <td>Newham</td>\n      <td>Upton Park</td>\n      <td>51.535165</td>\n      <td>0.025046</td>\n    </tr>\n    <tr>\n      <th>13</th>\n      <td>Newham</td>\n      <td>West Ham</td>\n      <td>51.535165</td>\n      <td>0.025046</td>\n    </tr>\n  </tbody>\n</table>\n</div>", 
                        "text/plain": "   Borough    Neighborhood   Latitude  Longitude\n0   Newham         Beckton  51.514642   0.067375\n1   Newham    Canning Town  51.515396   0.024169\n2   Newham    Custom House  51.508133   0.028171\n3   Newham        East Ham  51.532867   0.053782\n4   Newham     Forest Gate  51.551339   0.025765\n5   Newham   Little Ilford  51.550584   0.069004\n6   Newham      Manor Park  51.550838   0.054591\n7   Newham        Maryland  51.546294   0.005349\n8   Newham  North Woolwich  51.496671   0.066561\n9   Newham        Plaistow  51.524382   0.024568\n10  Newham      Silvertown  51.497175   0.037769\n11  Newham       Stratford  51.542847  -0.003456\n12  Newham      Upton Park  51.535165   0.025046\n13  Newham        West Ham  51.535165   0.025046"
                    }, 
                    "output_type": "execute_result"
                }
            ], 
            "source": "Newham_borough"
        }, 
        {
            "execution_count": 121, 
            "cell_type": "code", 
            "metadata": {}, 
            "outputs": [
                {
                    "execution_count": 121, 
                    "metadata": {}, 
                    "data": {
                        "text/plain": "Borough          object\nNeighborhood     object\nLatitude        float64\nLongitude       float64\ndtype: object"
                    }, 
                    "output_type": "execute_result"
                }
            ], 
            "source": "Newham_borough.dtypes"
        }, 
        {
            "source": "#### Now lets get the Coordinates of Newham Borough", 
            "cell_type": "markdown", 
            "metadata": {}
        }, 
        {
            "execution_count": 122, 
            "cell_type": "code", 
            "metadata": {}, 
            "outputs": [
                {
                    "output_type": "stream", 
                    "name": "stdout", 
                    "text": "The geograpical coordinate of Newham are 51.52999955, 0.0293179602938221.\n"
                }
            ], 
            "source": "address = 'Newham, London'\n\ngeolocator = Nominatim()\nlocation = geolocator.geocode(address)\nlatitude = location.latitude\nlongitude = location.longitude\nprint('The geograpical coordinate of Newham are {}, {}.'.format(latitude, longitude))"
        }, 
        {
            "source": "### Let's Visualize the Areas(Neighborhoods) of Newham Borough", 
            "cell_type": "markdown", 
            "metadata": {}
        }, 
        {
            "execution_count": 123, 
            "cell_type": "code", 
            "metadata": {}, 
            "outputs": [
                {
                    "execution_count": 123, 
                    "metadata": {}, 
                    "data": {
                        "text/html": "<div style=\"width:100%;\"><div style=\"position:relative;width:100%;height:0;padding-bottom:60%;\"><iframe src=\"data:text/html;charset=utf-8;base64,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\" style=\"position:absolute;width:100%;height:100%;left:0;top:0;border:none !important;\" allowfullscreen webkitallowfullscreen mozallowfullscreen></iframe></div></div>", 
                        "text/plain": "<folium.folium.Map at 0x7fa6743fba58>"
                    }, 
                    "output_type": "execute_result"
                }
            ], 
            "source": "# create map of Newham using latitude and longitude values\nmap_Newham = folium.Map(location=[latitude, longitude], zoom_start=11)\n\n# add markers to map\nfor lat, lng, label in zip(Newham_borough['Latitude'], Newham_borough['Longitude'], Newham_borough['Neighborhood']):\n    label = folium.Popup(label, parse_html=True)\n    folium.CircleMarker(\n        [lat, lng],\n        radius=5,\n        popup=label,\n        color='blue',\n        fill=True,\n        fill_color='#3186cc',\n        fill_opacity=0.7).add_to(map_Newham)  \n    \nmap_Newham"
        }, 
        {
            "source": "#### Define FourSquare Credentials ", 
            "cell_type": "markdown", 
            "metadata": {}
        }, 
        {
            "source": "#### Let's explore the first Neighborhood(Area) in Newham Borough", 
            "cell_type": "markdown", 
            "metadata": {}
        }, 
        {
            "execution_count": 125, 
            "cell_type": "code", 
            "metadata": {}, 
            "outputs": [
                {
                    "execution_count": 125, 
                    "metadata": {}, 
                    "data": {
                        "text/plain": "(14, 4)"
                    }, 
                    "output_type": "execute_result"
                }
            ], 
            "source": "Newham_borough.shape"
        }, 
        {
            "execution_count": 126, 
            "cell_type": "code", 
            "metadata": {}, 
            "outputs": [
                {
                    "execution_count": 126, 
                    "metadata": {}, 
                    "data": {
                        "text/plain": "Index(['Borough', 'Neighborhood', 'Latitude', 'Longitude'], dtype='object')"
                    }, 
                    "output_type": "execute_result"
                }
            ], 
            "source": "Newham_borough.columns"
        }, 
        {
            "execution_count": 127, 
            "cell_type": "code", 
            "metadata": {}, 
            "outputs": [
                {
                    "execution_count": 127, 
                    "metadata": {}, 
                    "data": {
                        "text/plain": "'Beckton'"
                    }, 
                    "output_type": "execute_result"
                }
            ], 
            "source": "Newham_borough.loc[0, 'Neighborhood']"
        }, 
        {
            "execution_count": 128, 
            "cell_type": "code", 
            "metadata": {}, 
            "outputs": [
                {
                    "execution_count": 128, 
                    "metadata": {}, 
                    "data": {
                        "text/plain": "Borough           Newham\nNeighborhood     Beckton\nLatitude         51.5146\nLongitude       0.067375\nName: 0, dtype: object"
                    }, 
                    "output_type": "execute_result"
                }
            ], 
            "source": "Newham_borough.loc[0]"
        }, 
        {
            "source": "#### Get the Neighborhood's latitude and longitude value ", 
            "cell_type": "markdown", 
            "metadata": {}
        }, 
        {
            "execution_count": 129, 
            "cell_type": "code", 
            "metadata": {}, 
            "outputs": [
                {
                    "output_type": "stream", 
                    "name": "stdout", 
                    "text": "Latitude and longitude values of Beckton are 51.514642, 0.067375.\n"
                }
            ], 
            "source": "neighborhood_latitude = Newham_borough.loc[0, 'Latitude'] # neighborhood latitude value\nneighborhood_longitude = Newham_borough.loc[0, 'Longitude'] # neighborhood longitude value\n\nneighborhood_name = Newham_borough.loc[0, 'Neighborhood'] # neighborhood name\n\nprint('Latitude and longitude values of {} are {}, {}.'.format(neighborhood_name, \n                                                               neighborhood_latitude, \n                                                               neighborhood_longitude))"
        }, 
        {
            "source": "#### Now get the top 100 places of Newham Neighborhood within 500KM radius \n#### Create the GET request URL. Name your URL url.", 
            "cell_type": "markdown", 
            "metadata": {}
        }, 
        {
            "execution_count": 130, 
            "cell_type": "code", 
            "metadata": {}, 
            "outputs": [
                {
                    "execution_count": 130, 
                    "metadata": {}, 
                    "data": {
                        "text/plain": "'https://api.foursquare.com/v2/venues/explore?&client_id=2SOZTXSIXUULTVR1H5IXJJNRWOLETFJ3A1ZUMKN2T4Z30HFG&client_secret=       Z2H2BVM2JJH5KX5SWJ2UTFHOKZWBG4ELJ4UWJKAHIZID5MNJ&v=20180605&ll=51.514642,0.067375&radius=500&limit=100'"
                    }, 
                    "output_type": "execute_result"
                }
            ], 
            "source": "LIMIT = 100 # limit of number of venues returned by Foursquare API\nradius = 500 # define radius\n# create URL\nurl = 'https://api.foursquare.com/v2/venues/explore?&client_id={}&client_secret=\\\n       {}&v={}&ll={},{}&radius={}&limit={}'.format(\n    CLIENT_ID, \n    CLIENT_SECRET, \n    VERSION, \n    neighborhood_latitude, \n    neighborhood_longitude, \n    radius, \n    LIMIT)\nurl # display URL"
        }, 
        {
            "execution_count": 131, 
            "cell_type": "code", 
            "metadata": {}, 
            "outputs": [
                {
                    "execution_count": 131, 
                    "metadata": {}, 
                    "data": {
                        "text/plain": "{'meta': {'code': 200, 'requestId': '5c597278dd5797195928eabf'},\n 'response': {'groups': [{'items': [{'reasons': {'count': 0,\n       'items': [{'reasonName': 'globalInteractionReason',\n         'summary': 'This spot is popular',\n         'type': 'general'}]},\n      'referralId': 'e-0-4cd462e4886cb60c1bcb7d89-0',\n      'venue': {'categories': [{'icon': {'prefix': 'https://ss3.4sqi.net/img/categories_v2/shops/food_grocery_',\n          'suffix': '.png'},\n         'id': '4bf58dd8d48988d118951735',\n         'name': 'Grocery Store',\n         'pluralName': 'Grocery Stores',\n         'primary': True,\n         'shortName': 'Grocery Store'}],\n       'id': '4cd462e4886cb60c1bcb7d89',\n       'location': {'address': 'Alpine Way (Unit 4C, Beckton Retail Park)',\n        'cc': 'GB',\n        'city': 'London',\n        'country': 'United Kingdom',\n        'distance': 367,\n        'formattedAddress': ['Alpine Way (Unit 4C, Beckton Retail Park)',\n         'London',\n         'Greater London',\n         'E6 6LA',\n         'United Kingdom'],\n        'labeledLatLngs': [{'label': 'display',\n          'lat': 51.51644209755886,\n          'lng': 0.06292681188810904}],\n        'lat': 51.51644209755886,\n        'lng': 0.06292681188810904,\n        'postalCode': 'E6 6LA',\n        'state': 'Greater London'},\n       'name': 'Lituanica',\n       'photos': {'count': 0, 'groups': []}}},\n     {'reasons': {'count': 0,\n       'items': [{'reasonName': 'globalInteractionReason',\n         'summary': 'This spot is popular',\n         'type': 'general'}]},\n      'referralId': 'e-0-52cecf5711d25db28fc70b17-1',\n      'venue': {'categories': [{'icon': {'prefix': 'https://ss3.4sqi.net/img/categories_v2/shops/discountstore_',\n          'suffix': '.png'},\n         'id': '52dea92d3cf9994f4e043dbb',\n         'name': 'Discount Store',\n         'pluralName': 'Discount Stores',\n         'primary': True,\n         'shortName': 'Discount Store'}],\n       'id': '52cecf5711d25db28fc70b17',\n       'location': {'address': 'Alpine Way',\n        'cc': 'GB',\n        'country': 'United Kingdom',\n        'distance': 427,\n        'formattedAddress': ['Alpine Way', 'United Kingdom'],\n        'labeledLatLngs': [{'label': 'display',\n          'lat': 51.517190267073836,\n          'lng': 0.06275368423335088}],\n        'lat': 51.517190267073836,\n        'lng': 0.06275368423335088},\n       'name': 'Home Bargains',\n       'photos': {'count': 0, 'groups': []}}},\n     {'reasons': {'count': 0,\n       'items': [{'reasonName': 'globalInteractionReason',\n         'summary': 'This spot is popular',\n         'type': 'general'}]},\n      'referralId': 'e-0-4bbed90a98f4952177d8d163-2',\n      'venue': {'categories': [{'icon': {'prefix': 'https://ss3.4sqi.net/img/categories_v2/travel/hotel_',\n          'suffix': '.png'},\n         'id': '4bf58dd8d48988d1fa931735',\n         'name': 'Hotel',\n         'pluralName': 'Hotels',\n         'primary': True,\n         'shortName': 'Hotel'}],\n       'id': '4bbed90a98f4952177d8d163',\n       'location': {'address': '1 Woolwich Manor Way',\n        'cc': 'GB',\n        'city': 'London',\n        'country': 'United Kingdom',\n        'crossStreet': '1 Woolwich Manor Way',\n        'distance': 445,\n        'formattedAddress': ['1 Woolwich Manor Way (1 Woolwich Manor Way)',\n         'London',\n         'E6 5NT',\n         'United Kingdom'],\n        'labeledLatLngs': [{'label': 'display',\n          'lat': 51.5150175,\n          'lng': 0.0609785}],\n        'lat': 51.5150175,\n        'lng': 0.0609785,\n        'postalCode': 'E6 5NT'},\n       'name': 'Premier Inn London Beckton',\n       'photos': {'count': 0, 'groups': []}}},\n     {'reasons': {'count': 0,\n       'items': [{'reasonName': 'globalInteractionReason',\n         'summary': 'This spot is popular',\n         'type': 'general'}]},\n      'referralId': 'e-0-4f942748e4b04c0c9f9862d0-3',\n      'venue': {'categories': [{'icon': {'prefix': 'https://ss3.4sqi.net/img/categories_v2/shops/furniture_',\n          'suffix': '.png'},\n         'id': '4bf58dd8d48988d1f8941735',\n         'name': 'Furniture / Home Store',\n         'pluralName': 'Furniture / Home Stores',\n         'primary': True,\n         'shortName': 'Furniture / Home'}],\n       'id': '4f942748e4b04c0c9f9862d0',\n       'location': {'address': 'Beckton Retail Park, Alpine Way',\n        'cc': 'GB',\n        'city': 'Beckton',\n        'country': 'United Kingdom',\n        'distance': 342,\n        'formattedAddress': ['Beckton Retail Park, Alpine Way',\n         'Beckton',\n         'Greater London',\n         'E6 6LA',\n         'United Kingdom'],\n        'labeledLatLngs': [{'label': 'display',\n          'lat': 51.516101,\n          'lng': 0.063028}],\n        'lat': 51.516101,\n        'lng': 0.063028,\n        'postalCode': 'E6 6LA',\n        'state': 'Greater London'},\n       'name': 'Dreams Beckton',\n       'photos': {'count': 0, 'groups': []}}},\n     {'reasons': {'count': 0,\n       'items': [{'reasonName': 'globalInteractionReason',\n         'summary': 'This spot is popular',\n         'type': 'general'}]},\n      'referralId': 'e-0-4bf69e4cbfeac92898a19436-4',\n      'venue': {'categories': [{'icon': {'prefix': 'https://ss3.4sqi.net/img/categories_v2/travel/lightrail_',\n          'suffix': '.png'},\n         'id': '4bf58dd8d48988d1fc931735',\n         'name': 'Light Rail Station',\n         'pluralName': 'Light Rail Stations',\n         'primary': True,\n         'shortName': 'Light Rail'}],\n       'id': '4bf69e4cbfeac92898a19436',\n       'location': {'address': 'Woolwich Manor Way',\n        'cc': 'GB',\n        'city': 'Beckton',\n        'country': 'United Kingdom',\n        'distance': 410,\n        'formattedAddress': ['Woolwich Manor Way',\n         'Beckton',\n         'Greater London',\n         'E6 5NT',\n         'United Kingdom'],\n        'labeledLatLngs': [{'label': 'display',\n          'lat': 51.51436463106562,\n          'lng': 0.061460137367248535}],\n        'lat': 51.51436463106562,\n        'lng': 0.061460137367248535,\n        'postalCode': 'E6 5NT',\n        'state': 'Greater London'},\n       'name': 'Beckton DLR Station',\n       'photos': {'count': 0, 'groups': []}}},\n     {'reasons': {'count': 0,\n       'items': [{'reasonName': 'globalInteractionReason',\n         'summary': 'This spot is popular',\n         'type': 'general'}]},\n      'referralId': 'e-0-50228c58e4b057124f4b1b58-5',\n      'venue': {'categories': [{'icon': {'prefix': 'https://ss3.4sqi.net/img/categories_v2/shops/apparel_',\n          'suffix': '.png'},\n         'id': '4bf58dd8d48988d103951735',\n         'name': 'Clothing Store',\n         'pluralName': 'Clothing Stores',\n         'primary': True,\n         'shortName': 'Apparel'}],\n       'id': '50228c58e4b057124f4b1b58',\n       'location': {'address': '8, Beckton Retail Park, Alpine Way',\n        'cc': 'GB',\n        'city': 'Beckton',\n        'country': 'United Kingdom',\n        'distance': 416,\n        'formattedAddress': ['8, Beckton Retail Park, Alpine Way',\n         'Beckton',\n         'E6 6LA',\n         'United Kingdom'],\n        'labeledLatLngs': [{'label': 'display',\n          'lat': 51.51626701119118,\n          'lng': 0.06196051215582541}],\n        'lat': 51.51626701119118,\n        'lng': 0.06196051215582541,\n        'postalCode': 'E6 6LA'},\n       'name': 'Matalan',\n       'photos': {'count': 0, 'groups': []}}},\n     {'reasons': {'count': 0,\n       'items': [{'reasonName': 'globalInteractionReason',\n         'summary': 'This spot is popular',\n         'type': 'general'}]},\n      'referralId': 'e-0-4cee7f6d0acea35d33ebe9ae-6',\n      'venue': {'categories': [{'icon': {'prefix': 'https://ss3.4sqi.net/img/categories_v2/shops/mall_',\n          'suffix': '.png'},\n         'id': '5744ccdfe4b0c0459246b4dc',\n         'name': 'Shopping Plaza',\n         'pluralName': 'Shopping Plazas',\n         'primary': True,\n         'shortName': 'Shopping Plaza'}],\n       'id': '4cee7f6d0acea35d33ebe9ae',\n       'location': {'address': '9 Alpine Way',\n        'cc': 'GB',\n        'city': 'Beckton',\n        'country': 'United Kingdom',\n        'distance': 483,\n        'formattedAddress': ['9 Alpine Way',\n         'Beckton',\n         'Greater London',\n         'E6 6LA',\n         'United Kingdom'],\n        'labeledLatLngs': [{'label': 'display',\n          'lat': 51.51527720416674,\n          'lng': 0.06047142600895339}],\n        'lat': 51.51527720416674,\n        'lng': 0.06047142600895339,\n        'postalCode': 'E6 6LA',\n        'state': 'Greater London'},\n       'name': 'Beckton Retail Park',\n       'photos': {'count': 0, 'groups': []}}},\n     {'reasons': {'count': 0,\n       'items': [{'reasonName': 'globalInteractionReason',\n         'summary': 'This spot is popular',\n         'type': 'general'}]},\n      'referralId': 'e-0-4c07fc177e3fc928ea98ef82-7',\n      'venue': {'categories': [{'icon': {'prefix': 'https://ss3.4sqi.net/img/categories_v2/nightlife/pub_',\n          'suffix': '.png'},\n         'id': '4bf58dd8d48988d11b941735',\n         'name': 'Pub',\n         'pluralName': 'Pubs',\n         'primary': True,\n         'shortName': 'Pub'}],\n       'id': '4c07fc177e3fc928ea98ef82',\n       'location': {'address': '1 Woolwich Manor Way',\n        'cc': 'GB',\n        'city': 'Beckton',\n        'country': 'United Kingdom',\n        'distance': 451,\n        'formattedAddress': ['1 Woolwich Manor Way',\n         'Beckton',\n         'Greater London',\n         'E6 5NT',\n         'United Kingdom'],\n        'labeledLatLngs': [{'label': 'display',\n          'lat': 51.51481196163808,\n          'lng': 0.06086126705726321}],\n        'lat': 51.51481196163808,\n        'lng': 0.06086126705726321,\n        'postalCode': 'E6 5NT',\n        'state': 'Greater London'},\n       'name': 'Brewers Fayre',\n       'photos': {'count': 0, 'groups': []}}}],\n    'name': 'recommended',\n    'type': 'Recommended Places'}],\n  'headerFullLocation': 'Beckton, London',\n  'headerLocation': 'Beckton',\n  'headerLocationGranularity': 'neighborhood',\n  'suggestedBounds': {'ne': {'lat': 51.519142004500004,\n    'lng': 0.07459257505421912},\n   'sw': {'lat': 51.5101419955, 'lng': 0.060157424945780885}},\n  'suggestedFilters': {'filters': [{'key': 'openNow', 'name': 'Open now'}],\n   'header': 'Tap to show:'},\n  'totalResults': 8}}"
                    }, 
                    "output_type": "execute_result"
                }
            ], 
            "source": "results = requests.get(url).json()\nresults"
        }, 
        {
            "source": "#### Extract the Categories of the Venues", 
            "cell_type": "markdown", 
            "metadata": {}
        }, 
        {
            "execution_count": 132, 
            "cell_type": "code", 
            "metadata": {}, 
            "outputs": [], 
            "source": "# function that extracts the category of the venue\ndef get_category_type(row):\n    try:\n        categories_list = row['categories']\n    except:\n        categories_list = row['venue.categories']\n        \n    if len(categories_list) == 0:\n        return None\n    else:\n        return categories_list[0]['name']"
        }, 
        {
            "source": "#### We are ready to clean the json and structure it into a pandas dataframe.", 
            "cell_type": "markdown", 
            "metadata": {}
        }, 
        {
            "execution_count": 133, 
            "cell_type": "code", 
            "metadata": {}, 
            "outputs": [
                {
                    "execution_count": 133, 
                    "metadata": {}, 
                    "data": {
                        "text/html": "<div>\n<style scoped>\n    .dataframe tbody tr th:only-of-type {\n        vertical-align: middle;\n    }\n\n    .dataframe tbody tr th {\n        vertical-align: top;\n    }\n\n    .dataframe thead th {\n        text-align: right;\n    }\n</style>\n<table border=\"1\" class=\"dataframe\">\n  <thead>\n    <tr style=\"text-align: right;\">\n      <th></th>\n      <th>name</th>\n      <th>categories</th>\n      <th>lat</th>\n      <th>lng</th>\n    </tr>\n  </thead>\n  <tbody>\n    <tr>\n      <th>0</th>\n      <td>Lituanica</td>\n      <td>Grocery Store</td>\n      <td>51.516442</td>\n      <td>0.062927</td>\n    </tr>\n    <tr>\n      <th>1</th>\n      <td>Home Bargains</td>\n      <td>Discount Store</td>\n      <td>51.517190</td>\n      <td>0.062754</td>\n    </tr>\n    <tr>\n      <th>2</th>\n      <td>Premier Inn London Beckton</td>\n      <td>Hotel</td>\n      <td>51.515017</td>\n      <td>0.060978</td>\n    </tr>\n    <tr>\n      <th>3</th>\n      <td>Dreams Beckton</td>\n      <td>Furniture / Home Store</td>\n      <td>51.516101</td>\n      <td>0.063028</td>\n    </tr>\n    <tr>\n      <th>4</th>\n      <td>Beckton DLR Station</td>\n      <td>Light Rail Station</td>\n      <td>51.514365</td>\n      <td>0.061460</td>\n    </tr>\n  </tbody>\n</table>\n</div>", 
                        "text/plain": "                         name              categories        lat       lng\n0                   Lituanica           Grocery Store  51.516442  0.062927\n1               Home Bargains          Discount Store  51.517190  0.062754\n2  Premier Inn London Beckton                   Hotel  51.515017  0.060978\n3              Dreams Beckton  Furniture / Home Store  51.516101  0.063028\n4         Beckton DLR Station      Light Rail Station  51.514365  0.061460"
                    }, 
                    "output_type": "execute_result"
                }
            ], 
            "source": "results = requests.get(url).json()\n\nvenues = results['response']['groups'][0]['items']\nnearby_venues = json_normalize(venues) # flatten JSON\n\n# filter columns\nfiltered_columns = ['venue.name', 'venue.categories', 'venue.location.lat', 'venue.location.lng']\nnearby_venues =nearby_venues.loc[:, filtered_columns]\n\n# filter the category for each row\nnearby_venues['venue.categories'] = nearby_venues.apply(get_category_type, axis=1)\n\n# clean columns\nnearby_venues.columns = [col.split(\".\")[-1] for col in nearby_venues.columns]\nnearby_venues.head()"
        }, 
        {
            "execution_count": 134, 
            "cell_type": "code", 
            "metadata": {}, 
            "outputs": [
                {
                    "execution_count": 134, 
                    "metadata": {}, 
                    "data": {
                        "text/plain": "(8, 4)"
                    }, 
                    "output_type": "execute_result"
                }
            ], 
            "source": "nearby_venues.shape"
        }, 
        {
            "execution_count": 135, 
            "cell_type": "code", 
            "metadata": {}, 
            "outputs": [
                {
                    "execution_count": 135, 
                    "metadata": {}, 
                    "data": {
                        "text/plain": "Beckton DLR Station           1\nHome Bargains                 1\nBeckton Retail Park           1\nMatalan                       1\nLituanica                     1\nPremier Inn London Beckton    1\nDreams Beckton                1\nBrewers Fayre                 1\nName: name, dtype: int64"
                    }, 
                    "output_type": "execute_result"
                }
            ], 
            "source": "nearby_venues['name'].value_counts()"
        }, 
        {
            "source": "#### And how many venues were returned by Foursquare?", 
            "cell_type": "markdown", 
            "metadata": {}
        }, 
        {
            "execution_count": 136, 
            "cell_type": "code", 
            "metadata": {}, 
            "outputs": [
                {
                    "output_type": "stream", 
                    "name": "stdout", 
                    "text": "8 venues were returned by Foursquare.\n"
                }
            ], 
            "source": "print('{} venues were returned by Foursquare.'.format(nearby_venues.shape[0]))"
        }, 
        {
            "source": "### 2) Explore Neighborhoods in Newham Borough", 
            "cell_type": "markdown", 
            "metadata": {}
        }, 
        {
            "execution_count": 137, 
            "cell_type": "code", 
            "metadata": {}, 
            "outputs": [], 
            "source": "def getNearbyVenues(names, latitudes, longitudes, radius=500):\n    venues_list=[]\n    for name, lat, lng in zip(names, latitudes, longitudes):\n        # create the API request URL\n        url = 'https://api.foursquare.com/v2/venues/explore?&client_id={}&client_secret={}&v={}&ll={},{}&radius={}&limit={}'.format(\n            CLIENT_ID, CLIENT_SECRET, \n            VERSION, lat, lng, radius, LIMIT)\n            \n        # make the GET request\n        results = requests.get(url).json()[\"response\"]['groups'][0]['items']\n        \n        # return only relevant information for each nearby venue\n        venues_list.append([(\n            name, lat, lng, \n            v['venue']['name'], \n            v['venue']['location']['lat'], \n            v['venue']['location']['lng'],  \n            v['venue']['categories'][0]['name']) for v in results])\n\n    nearby_venues = pd.DataFrame([item for venue_list in venues_list for item in venue_list])\n    nearby_venues.columns = ['Neighborhood', 'Neighborhood Latitude', 'Neighborhood Longitude', \n                             'Venue', 'Venue Latitude', 'Venue Longitude', 'Venue Category']\n    \n    return(nearby_venues)"
        }, 
        {
            "source": "#### Now write the code to run the above function on each neighborhood and create a new dataframe called Newham venues", 
            "cell_type": "markdown", 
            "metadata": {}
        }, 
        {
            "execution_count": 138, 
            "cell_type": "code", 
            "metadata": {}, 
            "outputs": [], 
            "source": "Newham_venues = getNearbyVenues(names=Newham_borough['Neighborhood'],\n                                   latitudes=Newham_borough['Latitude'],\n                                   longitudes=Newham_borough['Longitude']\n                                  )"
        }, 
        {
            "execution_count": 139, 
            "cell_type": "code", 
            "metadata": {}, 
            "outputs": [
                {
                    "execution_count": 139, 
                    "metadata": {}, 
                    "data": {
                        "text/plain": "(207, 7)"
                    }, 
                    "output_type": "execute_result"
                }
            ], 
            "source": "Newham_venues.shape"
        }, 
        {
            "execution_count": 140, 
            "cell_type": "code", 
            "metadata": {}, 
            "outputs": [
                {
                    "execution_count": 140, 
                    "metadata": {}, 
                    "data": {
                        "text/html": "<div>\n<style scoped>\n    .dataframe tbody tr th:only-of-type {\n        vertical-align: middle;\n    }\n\n    .dataframe tbody tr th {\n        vertical-align: top;\n    }\n\n    .dataframe thead th {\n        text-align: right;\n    }\n</style>\n<table border=\"1\" class=\"dataframe\">\n  <thead>\n    <tr style=\"text-align: right;\">\n      <th></th>\n      <th>Neighborhood</th>\n      <th>Neighborhood Latitude</th>\n      <th>Neighborhood Longitude</th>\n      <th>Venue</th>\n      <th>Venue Latitude</th>\n      <th>Venue Longitude</th>\n      <th>Venue Category</th>\n    </tr>\n  </thead>\n  <tbody>\n    <tr>\n      <th>0</th>\n      <td>Beckton</td>\n      <td>51.514642</td>\n      <td>0.067375</td>\n      <td>Lituanica</td>\n      <td>51.516442</td>\n      <td>0.062927</td>\n      <td>Grocery Store</td>\n    </tr>\n    <tr>\n      <th>1</th>\n      <td>Beckton</td>\n      <td>51.514642</td>\n      <td>0.067375</td>\n      <td>Home Bargains</td>\n      <td>51.517190</td>\n      <td>0.062754</td>\n      <td>Discount Store</td>\n    </tr>\n    <tr>\n      <th>2</th>\n      <td>Beckton</td>\n      <td>51.514642</td>\n      <td>0.067375</td>\n      <td>Premier Inn London Beckton</td>\n      <td>51.515017</td>\n      <td>0.060978</td>\n      <td>Hotel</td>\n    </tr>\n    <tr>\n      <th>3</th>\n      <td>Beckton</td>\n      <td>51.514642</td>\n      <td>0.067375</td>\n      <td>Dreams Beckton</td>\n      <td>51.516101</td>\n      <td>0.063028</td>\n      <td>Furniture / Home Store</td>\n    </tr>\n    <tr>\n      <th>4</th>\n      <td>Beckton</td>\n      <td>51.514642</td>\n      <td>0.067375</td>\n      <td>Beckton DLR Station</td>\n      <td>51.514365</td>\n      <td>0.061460</td>\n      <td>Light Rail Station</td>\n    </tr>\n  </tbody>\n</table>\n</div>", 
                        "text/plain": "  Neighborhood  Neighborhood Latitude  Neighborhood Longitude  \\\n0      Beckton              51.514642                0.067375   \n1      Beckton              51.514642                0.067375   \n2      Beckton              51.514642                0.067375   \n3      Beckton              51.514642                0.067375   \n4      Beckton              51.514642                0.067375   \n\n                        Venue  Venue Latitude  Venue Longitude  \\\n0                   Lituanica       51.516442         0.062927   \n1               Home Bargains       51.517190         0.062754   \n2  Premier Inn London Beckton       51.515017         0.060978   \n3              Dreams Beckton       51.516101         0.063028   \n4         Beckton DLR Station       51.514365         0.061460   \n\n           Venue Category  \n0           Grocery Store  \n1          Discount Store  \n2                   Hotel  \n3  Furniture / Home Store  \n4      Light Rail Station  "
                    }, 
                    "output_type": "execute_result"
                }
            ], 
            "source": "Newham_venues.head()"
        }, 
        {
            "source": "#### Let's check how many venues were returned for each neighborhood", 
            "cell_type": "markdown", 
            "metadata": {}
        }, 
        {
            "execution_count": 141, 
            "cell_type": "code", 
            "metadata": {}, 
            "outputs": [
                {
                    "execution_count": 141, 
                    "metadata": {}, 
                    "data": {
                        "text/html": "<div>\n<style scoped>\n    .dataframe tbody tr th:only-of-type {\n        vertical-align: middle;\n    }\n\n    .dataframe tbody tr th {\n        vertical-align: top;\n    }\n\n    .dataframe thead th {\n        text-align: right;\n    }\n</style>\n<table border=\"1\" class=\"dataframe\">\n  <thead>\n    <tr style=\"text-align: right;\">\n      <th></th>\n      <th>Neighborhood Latitude</th>\n      <th>Neighborhood Longitude</th>\n      <th>Venue</th>\n      <th>Venue Latitude</th>\n      <th>Venue Longitude</th>\n      <th>Venue Category</th>\n    </tr>\n    <tr>\n      <th>Neighborhood</th>\n      <th></th>\n      <th></th>\n      <th></th>\n      <th></th>\n      <th></th>\n      <th></th>\n    </tr>\n  </thead>\n  <tbody>\n    <tr>\n      <th>Beckton</th>\n      <td>8</td>\n      <td>8</td>\n      <td>8</td>\n      <td>8</td>\n      <td>8</td>\n      <td>8</td>\n    </tr>\n    <tr>\n      <th>Canning Town</th>\n      <td>5</td>\n      <td>5</td>\n      <td>5</td>\n      <td>5</td>\n      <td>5</td>\n      <td>5</td>\n    </tr>\n    <tr>\n      <th>Custom House</th>\n      <td>22</td>\n      <td>22</td>\n      <td>22</td>\n      <td>22</td>\n      <td>22</td>\n      <td>22</td>\n    </tr>\n    <tr>\n      <th>East Ham</th>\n      <td>16</td>\n      <td>16</td>\n      <td>16</td>\n      <td>16</td>\n      <td>16</td>\n      <td>16</td>\n    </tr>\n    <tr>\n      <th>Forest Gate</th>\n      <td>10</td>\n      <td>10</td>\n      <td>10</td>\n      <td>10</td>\n      <td>10</td>\n      <td>10</td>\n    </tr>\n    <tr>\n      <th>Little Ilford</th>\n      <td>4</td>\n      <td>4</td>\n      <td>4</td>\n      <td>4</td>\n      <td>4</td>\n      <td>4</td>\n    </tr>\n    <tr>\n      <th>Manor Park</th>\n      <td>5</td>\n      <td>5</td>\n      <td>5</td>\n      <td>5</td>\n      <td>5</td>\n      <td>5</td>\n    </tr>\n    <tr>\n      <th>Maryland</th>\n      <td>24</td>\n      <td>24</td>\n      <td>24</td>\n      <td>24</td>\n      <td>24</td>\n      <td>24</td>\n    </tr>\n    <tr>\n      <th>North Woolwich</th>\n      <td>19</td>\n      <td>19</td>\n      <td>19</td>\n      <td>19</td>\n      <td>19</td>\n      <td>19</td>\n    </tr>\n    <tr>\n      <th>Plaistow</th>\n      <td>8</td>\n      <td>8</td>\n      <td>8</td>\n      <td>8</td>\n      <td>8</td>\n      <td>8</td>\n    </tr>\n    <tr>\n      <th>Silvertown</th>\n      <td>7</td>\n      <td>7</td>\n      <td>7</td>\n      <td>7</td>\n      <td>7</td>\n      <td>7</td>\n    </tr>\n    <tr>\n      <th>Stratford</th>\n      <td>69</td>\n      <td>69</td>\n      <td>69</td>\n      <td>69</td>\n      <td>69</td>\n      <td>69</td>\n    </tr>\n    <tr>\n      <th>Upton Park</th>\n      <td>5</td>\n      <td>5</td>\n      <td>5</td>\n      <td>5</td>\n      <td>5</td>\n      <td>5</td>\n    </tr>\n    <tr>\n      <th>West Ham</th>\n      <td>5</td>\n      <td>5</td>\n      <td>5</td>\n      <td>5</td>\n      <td>5</td>\n      <td>5</td>\n    </tr>\n  </tbody>\n</table>\n</div>", 
                        "text/plain": "                Neighborhood Latitude  Neighborhood Longitude  Venue  \\\nNeighborhood                                                           \nBeckton                             8                       8      8   \nCanning Town                        5                       5      5   \nCustom House                       22                      22     22   \nEast Ham                           16                      16     16   \nForest Gate                        10                      10     10   \nLittle Ilford                       4                       4      4   \nManor Park                          5                       5      5   \nMaryland                           24                      24     24   \nNorth Woolwich                     19                      19     19   \nPlaistow                            8                       8      8   \nSilvertown                          7                       7      7   \nStratford                          69                      69     69   \nUpton Park                          5                       5      5   \nWest Ham                            5                       5      5   \n\n                Venue Latitude  Venue Longitude  Venue Category  \nNeighborhood                                                     \nBeckton                      8                8               8  \nCanning Town                 5                5               5  \nCustom House                22               22              22  \nEast Ham                    16               16              16  \nForest Gate                 10               10              10  \nLittle Ilford                4                4               4  \nManor Park                   5                5               5  \nMaryland                    24               24              24  \nNorth Woolwich              19               19              19  \nPlaistow                     8                8               8  \nSilvertown                   7                7               7  \nStratford                   69               69              69  \nUpton Park                   5                5               5  \nWest Ham                     5                5               5  "
                    }, 
                    "output_type": "execute_result"
                }
            ], 
            "source": "Newham_venues.groupby('Neighborhood').count()"
        }, 
        {
            "source": "#### Let's find out how many unique categories can be curated from all the returned venues  ", 
            "cell_type": "markdown", 
            "metadata": {}
        }, 
        {
            "execution_count": 142, 
            "cell_type": "code", 
            "metadata": {}, 
            "outputs": [
                {
                    "output_type": "stream", 
                    "name": "stdout", 
                    "text": "There are 93 uniques categories.\n"
                }
            ], 
            "source": "print('There are {} uniques categories.'.format(len(Newham_venues['Venue Category'].unique())))"
        }, 
        {
            "source": "## 3) Analyze Each Neighborhood in Newham borough", 
            "cell_type": "markdown", 
            "metadata": {}
        }, 
        {
            "execution_count": 143, 
            "cell_type": "code", 
            "metadata": {}, 
            "outputs": [
                {
                    "execution_count": 143, 
                    "metadata": {}, 
                    "data": {
                        "text/html": "<div>\n<style scoped>\n    .dataframe tbody tr th:only-of-type {\n        vertical-align: middle;\n    }\n\n    .dataframe tbody tr th {\n        vertical-align: top;\n    }\n\n    .dataframe thead th {\n        text-align: right;\n    }\n</style>\n<table border=\"1\" class=\"dataframe\">\n  <thead>\n    <tr style=\"text-align: right;\">\n      <th></th>\n      <th>Neighborhood</th>\n      <th>Accessories Store</th>\n      <th>American Restaurant</th>\n      <th>Art Gallery</th>\n      <th>Asian Restaurant</th>\n      <th>Bakery</th>\n      <th>Bar</th>\n      <th>Boat or Ferry</th>\n      <th>Bookstore</th>\n      <th>Boutique</th>\n      <th>...</th>\n      <th>Tapas Restaurant</th>\n      <th>Tennis Court</th>\n      <th>Thai Restaurant</th>\n      <th>Theater</th>\n      <th>Toy / Game Store</th>\n      <th>Train Station</th>\n      <th>Tunnel</th>\n      <th>Turkish Restaurant</th>\n      <th>Warehouse Store</th>\n      <th>Wine Bar</th>\n    </tr>\n  </thead>\n  <tbody>\n    <tr>\n      <th>0</th>\n      <td>Beckton</td>\n      <td>0</td>\n      <td>0</td>\n      <td>0</td>\n      <td>0</td>\n      <td>0</td>\n      <td>0</td>\n      <td>0</td>\n      <td>0</td>\n      <td>0</td>\n      <td>...</td>\n      <td>0</td>\n      <td>0</td>\n      <td>0</td>\n      <td>0</td>\n      <td>0</td>\n      <td>0</td>\n      <td>0</td>\n      <td>0</td>\n      <td>0</td>\n      <td>0</td>\n    </tr>\n    <tr>\n      <th>1</th>\n      <td>Beckton</td>\n      <td>0</td>\n      <td>0</td>\n      <td>0</td>\n      <td>0</td>\n      <td>0</td>\n      <td>0</td>\n      <td>0</td>\n      <td>0</td>\n      <td>0</td>\n      <td>...</td>\n      <td>0</td>\n      <td>0</td>\n      <td>0</td>\n      <td>0</td>\n      <td>0</td>\n      <td>0</td>\n      <td>0</td>\n      <td>0</td>\n      <td>0</td>\n      <td>0</td>\n    </tr>\n    <tr>\n      <th>2</th>\n      <td>Beckton</td>\n      <td>0</td>\n      <td>0</td>\n      <td>0</td>\n      <td>0</td>\n      <td>0</td>\n      <td>0</td>\n      <td>0</td>\n      <td>0</td>\n      <td>0</td>\n      <td>...</td>\n      <td>0</td>\n      <td>0</td>\n      <td>0</td>\n      <td>0</td>\n      <td>0</td>\n      <td>0</td>\n      <td>0</td>\n      <td>0</td>\n      <td>0</td>\n      <td>0</td>\n    </tr>\n    <tr>\n      <th>3</th>\n      <td>Beckton</td>\n      <td>0</td>\n      <td>0</td>\n      <td>0</td>\n      <td>0</td>\n      <td>0</td>\n      <td>0</td>\n      <td>0</td>\n      <td>0</td>\n      <td>0</td>\n      <td>...</td>\n      <td>0</td>\n      <td>0</td>\n      <td>0</td>\n      <td>0</td>\n      <td>0</td>\n      <td>0</td>\n      <td>0</td>\n      <td>0</td>\n      <td>0</td>\n      <td>0</td>\n    </tr>\n    <tr>\n      <th>4</th>\n      <td>Beckton</td>\n      <td>0</td>\n      <td>0</td>\n      <td>0</td>\n      <td>0</td>\n      <td>0</td>\n      <td>0</td>\n      <td>0</td>\n      <td>0</td>\n      <td>0</td>\n      <td>...</td>\n      <td>0</td>\n      <td>0</td>\n      <td>0</td>\n      <td>0</td>\n      <td>0</td>\n      <td>0</td>\n      <td>0</td>\n      <td>0</td>\n      <td>0</td>\n      <td>0</td>\n    </tr>\n  </tbody>\n</table>\n<p>5 rows \u00d7 94 columns</p>\n</div>", 
                        "text/plain": "  Neighborhood  Accessories Store  American Restaurant  Art Gallery  \\\n0      Beckton                  0                    0            0   \n1      Beckton                  0                    0            0   \n2      Beckton                  0                    0            0   \n3      Beckton                  0                    0            0   \n4      Beckton                  0                    0            0   \n\n   Asian Restaurant  Bakery  Bar  Boat or Ferry  Bookstore  Boutique  \\\n0                 0       0    0              0          0         0   \n1                 0       0    0              0          0         0   \n2                 0       0    0              0          0         0   \n3                 0       0    0              0          0         0   \n4                 0       0    0              0          0         0   \n\n     ...     Tapas Restaurant  Tennis Court  Thai Restaurant  Theater  \\\n0    ...                    0             0                0        0   \n1    ...                    0             0                0        0   \n2    ...                    0             0                0        0   \n3    ...                    0             0                0        0   \n4    ...                    0             0                0        0   \n\n   Toy / Game Store  Train Station  Tunnel  Turkish Restaurant  \\\n0                 0              0       0                   0   \n1                 0              0       0                   0   \n2                 0              0       0                   0   \n3                 0              0       0                   0   \n4                 0              0       0                   0   \n\n   Warehouse Store  Wine Bar  \n0                0         0  \n1                0         0  \n2                0         0  \n3                0         0  \n4                0         0  \n\n[5 rows x 94 columns]"
                    }, 
                    "output_type": "execute_result"
                }
            ], 
            "source": "# one hot encoding\nNewham_onehot = pd.get_dummies(Newham_venues[['Venue Category']], prefix=\"\", prefix_sep=\"\")\n\n# add neighborhood column back to dataframe\nNewham_onehot['Neighborhood'] = Newham_venues['Neighborhood'] \n\n# move neighborhood column to the first column\nfixed_columns = [Newham_onehot.columns[-1]] + list(Newham_onehot.columns[:-1])\nNewham_onehot = Newham_onehot[fixed_columns]\n\nNewham_onehot.head()"
        }, 
        {
            "execution_count": 144, 
            "cell_type": "code", 
            "metadata": {}, 
            "outputs": [
                {
                    "execution_count": 144, 
                    "metadata": {}, 
                    "data": {
                        "text/plain": "(207, 94)"
                    }, 
                    "output_type": "execute_result"
                }
            ], 
            "source": "Newham_onehot.shape"
        }, 
        {
            "source": "#### Let's group rows by neighborhood and by taking the mean of the frequency of occurrence of each category", 
            "cell_type": "markdown", 
            "metadata": {}
        }, 
        {
            "execution_count": 145, 
            "cell_type": "code", 
            "metadata": {}, 
            "outputs": [
                {
                    "execution_count": 145, 
                    "metadata": {}, 
                    "data": {
                        "text/html": "<div>\n<style scoped>\n    .dataframe tbody tr th:only-of-type {\n        vertical-align: middle;\n    }\n\n    .dataframe tbody tr th {\n        vertical-align: top;\n    }\n\n    .dataframe thead th {\n        text-align: right;\n    }\n</style>\n<table border=\"1\" class=\"dataframe\">\n  <thead>\n    <tr style=\"text-align: right;\">\n      <th></th>\n      <th>Neighborhood</th>\n      <th>Accessories Store</th>\n      <th>American Restaurant</th>\n      <th>Art Gallery</th>\n      <th>Asian Restaurant</th>\n      <th>Bakery</th>\n      <th>Bar</th>\n      <th>Boat or Ferry</th>\n      <th>Bookstore</th>\n      <th>Boutique</th>\n      <th>...</th>\n      <th>Tapas Restaurant</th>\n      <th>Tennis Court</th>\n      <th>Thai Restaurant</th>\n      <th>Theater</th>\n      <th>Toy / Game Store</th>\n      <th>Train Station</th>\n      <th>Tunnel</th>\n      <th>Turkish Restaurant</th>\n      <th>Warehouse Store</th>\n      <th>Wine Bar</th>\n    </tr>\n  </thead>\n  <tbody>\n    <tr>\n      <th>0</th>\n      <td>Beckton</td>\n      <td>0.0</td>\n      <td>0.000000</td>\n      <td>0.0</td>\n      <td>0.0</td>\n      <td>0.0000</td>\n      <td>0.0</td>\n      <td>0.0</td>\n      <td>0.0</td>\n      <td>0.0</td>\n      <td>...</td>\n      <td>0.000000</td>\n      <td>0.0</td>\n      <td>0.0</td>\n      <td>0.0</td>\n      <td>0.0</td>\n      <td>0.0</td>\n      <td>0.0</td>\n      <td>0.0</td>\n      <td>0.0000</td>\n      <td>0.000000</td>\n    </tr>\n    <tr>\n      <th>1</th>\n      <td>Canning Town</td>\n      <td>0.0</td>\n      <td>0.000000</td>\n      <td>0.0</td>\n      <td>0.0</td>\n      <td>0.0000</td>\n      <td>0.0</td>\n      <td>0.0</td>\n      <td>0.0</td>\n      <td>0.0</td>\n      <td>...</td>\n      <td>0.000000</td>\n      <td>0.2</td>\n      <td>0.0</td>\n      <td>0.0</td>\n      <td>0.0</td>\n      <td>0.0</td>\n      <td>0.0</td>\n      <td>0.0</td>\n      <td>0.0000</td>\n      <td>0.000000</td>\n    </tr>\n    <tr>\n      <th>2</th>\n      <td>Custom House</td>\n      <td>0.0</td>\n      <td>0.045455</td>\n      <td>0.0</td>\n      <td>0.0</td>\n      <td>0.0000</td>\n      <td>0.0</td>\n      <td>0.0</td>\n      <td>0.0</td>\n      <td>0.0</td>\n      <td>...</td>\n      <td>0.045455</td>\n      <td>0.0</td>\n      <td>0.0</td>\n      <td>0.0</td>\n      <td>0.0</td>\n      <td>0.0</td>\n      <td>0.0</td>\n      <td>0.0</td>\n      <td>0.0000</td>\n      <td>0.045455</td>\n    </tr>\n    <tr>\n      <th>3</th>\n      <td>East Ham</td>\n      <td>0.0</td>\n      <td>0.000000</td>\n      <td>0.0</td>\n      <td>0.0</td>\n      <td>0.0625</td>\n      <td>0.0</td>\n      <td>0.0</td>\n      <td>0.0</td>\n      <td>0.0</td>\n      <td>...</td>\n      <td>0.000000</td>\n      <td>0.0</td>\n      <td>0.0</td>\n      <td>0.0</td>\n      <td>0.0</td>\n      <td>0.0</td>\n      <td>0.0</td>\n      <td>0.0</td>\n      <td>0.0625</td>\n      <td>0.000000</td>\n    </tr>\n    <tr>\n      <th>4</th>\n      <td>Forest Gate</td>\n      <td>0.0</td>\n      <td>0.000000</td>\n      <td>0.0</td>\n      <td>0.0</td>\n      <td>0.1000</td>\n      <td>0.0</td>\n      <td>0.0</td>\n      <td>0.0</td>\n      <td>0.0</td>\n      <td>...</td>\n      <td>0.000000</td>\n      <td>0.0</td>\n      <td>0.0</td>\n      <td>0.0</td>\n      <td>0.0</td>\n      <td>0.1</td>\n      <td>0.0</td>\n      <td>0.0</td>\n      <td>0.0000</td>\n      <td>0.000000</td>\n    </tr>\n  </tbody>\n</table>\n<p>5 rows \u00d7 94 columns</p>\n</div>", 
                        "text/plain": "   Neighborhood  Accessories Store  American Restaurant  Art Gallery  \\\n0       Beckton                0.0             0.000000          0.0   \n1  Canning Town                0.0             0.000000          0.0   \n2  Custom House                0.0             0.045455          0.0   \n3      East Ham                0.0             0.000000          0.0   \n4   Forest Gate                0.0             0.000000          0.0   \n\n   Asian Restaurant  Bakery  Bar  Boat or Ferry  Bookstore  Boutique  \\\n0               0.0  0.0000  0.0            0.0        0.0       0.0   \n1               0.0  0.0000  0.0            0.0        0.0       0.0   \n2               0.0  0.0000  0.0            0.0        0.0       0.0   \n3               0.0  0.0625  0.0            0.0        0.0       0.0   \n4               0.0  0.1000  0.0            0.0        0.0       0.0   \n\n     ...     Tapas Restaurant  Tennis Court  Thai Restaurant  Theater  \\\n0    ...             0.000000           0.0              0.0      0.0   \n1    ...             0.000000           0.2              0.0      0.0   \n2    ...             0.045455           0.0              0.0      0.0   \n3    ...             0.000000           0.0              0.0      0.0   \n4    ...             0.000000           0.0              0.0      0.0   \n\n   Toy / Game Store  Train Station  Tunnel  Turkish Restaurant  \\\n0               0.0            0.0     0.0                 0.0   \n1               0.0            0.0     0.0                 0.0   \n2               0.0            0.0     0.0                 0.0   \n3               0.0            0.0     0.0                 0.0   \n4               0.0            0.1     0.0                 0.0   \n\n   Warehouse Store  Wine Bar  \n0           0.0000  0.000000  \n1           0.0000  0.000000  \n2           0.0000  0.045455  \n3           0.0625  0.000000  \n4           0.0000  0.000000  \n\n[5 rows x 94 columns]"
                    }, 
                    "output_type": "execute_result"
                }
            ], 
            "source": "Newham_grouped = Newham_onehot.groupby('Neighborhood').mean().reset_index()\nNewham_grouped.head()"
        }, 
        {
            "execution_count": 146, 
            "cell_type": "code", 
            "metadata": {}, 
            "outputs": [
                {
                    "execution_count": 146, 
                    "metadata": {}, 
                    "data": {
                        "text/plain": "Index(['Neighborhood', 'Accessories Store', 'American Restaurant',\n       'Art Gallery', 'Asian Restaurant', 'Bakery', 'Bar', 'Boat or Ferry',\n       'Bookstore', 'Boutique', 'Brewery', 'Bridal Shop', 'Bridge',\n       'Bubble Tea Shop', 'Burger Joint', 'Bus Line', 'Bus Stop', 'Caf\u00e9',\n       'Chinese Restaurant', 'Clothing Store', 'Coffee Shop',\n       'Construction & Landscaping', 'Convenience Store', 'Cosmetics Shop',\n       'Creperie', 'Dance Studio', 'Department Store', 'Dessert Shop',\n       'Discount Store', 'Doner Restaurant', 'Eastern European Restaurant',\n       'Electronics Store', 'Fast Food Restaurant', 'Fish & Chips Shop',\n       'Flower Shop', 'Food Court', 'Fried Chicken Joint',\n       'Furniture / Home Store', 'Gas Station', 'General Entertainment',\n       'Gift Shop', 'Go Kart Track', 'Greek Restaurant', 'Grocery Store',\n       'Gym / Fitness Center', 'Gym Pool', 'History Museum', 'Hotel',\n       'Hotel Bar', 'Ice Cream Shop', 'Indian Restaurant',\n       'Indie Movie Theater', 'Indie Theater', 'Italian Restaurant',\n       'Japanese Restaurant', 'Juice Bar', 'Latin American Restaurant',\n       'Light Rail Station', 'Lingerie Store', 'Liquor Store',\n       'Mediterranean Restaurant', 'Men's Store', 'Mexican Restaurant',\n       'Middle Eastern Restaurant', 'Movie Theater', 'Moving Target', 'Museum',\n       'Outdoor Sculpture', 'Paintball Field', 'Park', 'Pharmacy', 'Pier',\n       'Pizza Place', 'Plaza', 'Portuguese Restaurant', 'Pub', 'Restaurant',\n       'Sandwich Place', 'Scenic Lookout', 'Sculpture Garden', 'Shopping Mall',\n       'Shopping Plaza', 'Supermarket', 'Sushi Restaurant', 'Tapas Restaurant',\n       'Tennis Court', 'Thai Restaurant', 'Theater', 'Toy / Game Store',\n       'Train Station', 'Tunnel', 'Turkish Restaurant', 'Warehouse Store',\n       'Wine Bar'],\n      dtype='object')"
                    }, 
                    "output_type": "execute_result"
                }
            ], 
            "source": "Newham_grouped.columns"
        }, 
        {
            "execution_count": 147, 
            "cell_type": "code", 
            "metadata": {}, 
            "outputs": [
                {
                    "execution_count": 147, 
                    "metadata": {}, 
                    "data": {
                        "text/plain": "(14, 94)"
                    }, 
                    "output_type": "execute_result"
                }
            ], 
            "source": "Newham_grouped.shape"
        }, 
        {
            "source": "#### Let's print each neighborhood along with the top 5 most common venues", 
            "cell_type": "markdown", 
            "metadata": {}
        }, 
        {
            "execution_count": 148, 
            "cell_type": "code", 
            "metadata": {}, 
            "outputs": [
                {
                    "output_type": "stream", 
                    "name": "stdout", 
                    "text": "----Beckton----\n            venue  freq\n0           Hotel  0.12\n1   Grocery Store  0.12\n2             Pub  0.12\n3  Clothing Store  0.12\n4  Shopping Plaza  0.12\n\n\n----Canning Town----\n                        venue  freq\n0                 Gas Station   0.2\n1                Tennis Court   0.2\n2           Convenience Store   0.2\n3  Construction & Landscaping   0.2\n4                        Park   0.2\n\n\n----Custom House----\n                venue  freq\n0               Hotel  0.23\n1  Chinese Restaurant  0.09\n2                 Pub  0.09\n3    Tapas Restaurant  0.05\n4      Scenic Lookout  0.05\n\n\n----East Ham----\n                  venue  freq\n0  Fast Food Restaurant  0.12\n1        Clothing Store  0.12\n2         Shopping Mall  0.06\n3         Grocery Store  0.06\n4        Discount Store  0.06\n\n\n----Forest Gate----\n                  venue  freq\n0         Grocery Store   0.2\n1    Italian Restaurant   0.1\n2                Bakery   0.1\n3         Train Station   0.1\n4  Fast Food Restaurant   0.1\n\n\n----Little Ilford----\n                 venue  freq\n0    Indian Restaurant  0.25\n1        Grocery Store  0.25\n2  Fried Chicken Joint  0.25\n3       Ice Cream Shop  0.25\n4          Men's Store  0.00\n\n\n----Manor Park----\n                  venue  freq\n0     Indian Restaurant   0.2\n1    Turkish Restaurant   0.2\n2  Gym / Fitness Center   0.2\n3            Restaurant   0.2\n4        Clothing Store   0.2\n\n\n----Maryland----\n           venue  freq\n0          Hotel  0.17\n1       Bus Stop  0.12\n2            Pub  0.12\n3  Grocery Store  0.08\n4   Liquor Store  0.04\n\n\n----North Woolwich----\n                venue  freq\n0                Pier  0.16\n1      History Museum  0.11\n2               Hotel  0.05\n3         Supermarket  0.05\n4  Italian Restaurant  0.05\n\n\n----Plaistow----\n                  venue  freq\n0                  Park  0.25\n1                  Caf\u00e9  0.25\n2     Indian Restaurant  0.12\n3  Gym / Fitness Center  0.12\n4         Grocery Store  0.12\n\n\n----Silvertown----\n                  venue  freq\n0                  Park  0.14\n1       Paintball Field  0.14\n2                Museum  0.14\n3  Gym / Fitness Center  0.14\n4               Theater  0.14\n\n\n----Stratford----\n                  venue  freq\n0                   Pub  0.06\n1        Sandwich Place  0.04\n2                 Hotel  0.03\n3  Fast Food Restaurant  0.03\n4        Cosmetics Shop  0.03\n\n\n----Upton Park----\n               venue  freq\n0           Bus Line   0.2\n1                Pub   0.2\n2  Convenience Store   0.2\n3           Boutique   0.2\n4           Bus Stop   0.2\n\n\n----West Ham----\n               venue  freq\n0           Bus Line   0.2\n1                Pub   0.2\n2  Convenience Store   0.2\n3           Boutique   0.2\n4           Bus Stop   0.2\n\n\n"
                }
            ], 
            "source": "num_top_venues = 5\nfor hood in Newham_grouped['Neighborhood']:\n    print(\"----\"+hood+\"----\")\n    temp = Newham_grouped[Newham_grouped['Neighborhood'] == hood].T.reset_index()\n    temp.columns = ['venue','freq']\n    temp = temp.iloc[1:]\n    temp['freq'] = temp['freq'].astype(float)\n    temp = temp.round({'freq': 2})\n    print(temp.sort_values('freq', ascending=False).reset_index(drop=True).head(num_top_venues))\n    print('\\n')"
        }, 
        {
            "source": "#### Let's put that into a pandas dataframe\n#### First, let's write a function to sort the venues in descending order.", 
            "cell_type": "markdown", 
            "metadata": {}
        }, 
        {
            "execution_count": 149, 
            "cell_type": "code", 
            "metadata": {}, 
            "outputs": [], 
            "source": "def return_most_common_venues(row, num_top_venues):\n    row_categories = row.iloc[1:]\n    row_categories_sorted = row_categories.sort_values(ascending=False)\n    \n    return row_categories_sorted.index.values[0:num_top_venues]"
        }, 
        {
            "source": "#### Now let's create the new dataframe and display the top 10 venues for each neighborhood.", 
            "cell_type": "markdown", 
            "metadata": {}
        }, 
        {
            "execution_count": 150, 
            "cell_type": "code", 
            "metadata": {}, 
            "outputs": [], 
            "source": "num_top_venues = 10\nindicators = ['st', 'nd', 'rd']\n\n# create columns according to number of top venues\ncolumns = ['Neighborhood']\nfor ind in np.arange(num_top_venues):\n    try:\n        columns.append('{}{} Most Common Venue'.format(ind+1, indicators[ind]))\n    except:\n        columns.append('{}th Most Common Venue'.format(ind+1))\n        \n# create a new dataframe\nneighborhoods_venues_sorted = pd.DataFrame(columns=columns)\nneighborhoods_venues_sorted['Neighborhood'] = Newham_grouped['Neighborhood']\n\nfor ind in np.arange(Newham_grouped.shape[0]):\n    neighborhoods_venues_sorted.iloc[ind, 1:] = return_most_common_venues(Newham_grouped.iloc[ind, :], num_top_venues)\n"
        }, 
        {
            "execution_count": 151, 
            "cell_type": "code", 
            "metadata": {}, 
            "outputs": [
                {
                    "execution_count": 151, 
                    "metadata": {}, 
                    "data": {
                        "text/html": "<div>\n<style scoped>\n    .dataframe tbody tr th:only-of-type {\n        vertical-align: middle;\n    }\n\n    .dataframe tbody tr th {\n        vertical-align: top;\n    }\n\n    .dataframe thead th {\n        text-align: right;\n    }\n</style>\n<table border=\"1\" class=\"dataframe\">\n  <thead>\n    <tr style=\"text-align: right;\">\n      <th></th>\n      <th>Neighborhood</th>\n      <th>1st Most Common Venue</th>\n      <th>2nd Most Common Venue</th>\n      <th>3rd Most Common Venue</th>\n      <th>4th Most Common Venue</th>\n      <th>5th Most Common Venue</th>\n      <th>6th Most Common Venue</th>\n      <th>7th Most Common Venue</th>\n      <th>8th Most Common Venue</th>\n      <th>9th Most Common Venue</th>\n      <th>10th Most Common Venue</th>\n    </tr>\n  </thead>\n  <tbody>\n    <tr>\n      <th>0</th>\n      <td>Beckton</td>\n      <td>Hotel</td>\n      <td>Furniture / Home Store</td>\n      <td>Clothing Store</td>\n      <td>Discount Store</td>\n      <td>Pub</td>\n      <td>Light Rail Station</td>\n      <td>Shopping Plaza</td>\n      <td>Grocery Store</td>\n      <td>Gas Station</td>\n      <td>General Entertainment</td>\n    </tr>\n    <tr>\n      <th>1</th>\n      <td>Canning Town</td>\n      <td>Convenience Store</td>\n      <td>Gas Station</td>\n      <td>Construction &amp; Landscaping</td>\n      <td>Tennis Court</td>\n      <td>Park</td>\n      <td>Gift Shop</td>\n      <td>General Entertainment</td>\n      <td>Creperie</td>\n      <td>Grocery Store</td>\n      <td>Dance Studio</td>\n    </tr>\n    <tr>\n      <th>2</th>\n      <td>Custom House</td>\n      <td>Hotel</td>\n      <td>Chinese Restaurant</td>\n      <td>Pub</td>\n      <td>Scenic Lookout</td>\n      <td>American Restaurant</td>\n      <td>Bridge</td>\n      <td>Coffee Shop</td>\n      <td>Gym / Fitness Center</td>\n      <td>Hotel Bar</td>\n      <td>Italian Restaurant</td>\n    </tr>\n    <tr>\n      <th>3</th>\n      <td>East Ham</td>\n      <td>Clothing Store</td>\n      <td>Fast Food Restaurant</td>\n      <td>Gym Pool</td>\n      <td>Warehouse Store</td>\n      <td>Bakery</td>\n      <td>Grocery Store</td>\n      <td>Park</td>\n      <td>Pub</td>\n      <td>Discount Store</td>\n      <td>Supermarket</td>\n    </tr>\n    <tr>\n      <th>4</th>\n      <td>Forest Gate</td>\n      <td>Grocery Store</td>\n      <td>Italian Restaurant</td>\n      <td>Moving Target</td>\n      <td>Chinese Restaurant</td>\n      <td>Pub</td>\n      <td>Fast Food Restaurant</td>\n      <td>Flower Shop</td>\n      <td>Bakery</td>\n      <td>Train Station</td>\n      <td>General Entertainment</td>\n    </tr>\n  </tbody>\n</table>\n</div>", 
                        "text/plain": "   Neighborhood 1st Most Common Venue   2nd Most Common Venue  \\\n0       Beckton                 Hotel  Furniture / Home Store   \n1  Canning Town     Convenience Store             Gas Station   \n2  Custom House                 Hotel      Chinese Restaurant   \n3      East Ham        Clothing Store    Fast Food Restaurant   \n4   Forest Gate         Grocery Store      Italian Restaurant   \n\n        3rd Most Common Venue 4th Most Common Venue 5th Most Common Venue  \\\n0              Clothing Store        Discount Store                   Pub   \n1  Construction & Landscaping          Tennis Court                  Park   \n2                         Pub        Scenic Lookout   American Restaurant   \n3                    Gym Pool       Warehouse Store                Bakery   \n4               Moving Target    Chinese Restaurant                   Pub   \n\n  6th Most Common Venue  7th Most Common Venue 8th Most Common Venue  \\\n0    Light Rail Station         Shopping Plaza         Grocery Store   \n1             Gift Shop  General Entertainment              Creperie   \n2                Bridge            Coffee Shop  Gym / Fitness Center   \n3         Grocery Store                   Park                   Pub   \n4  Fast Food Restaurant            Flower Shop                Bakery   \n\n  9th Most Common Venue 10th Most Common Venue  \n0           Gas Station  General Entertainment  \n1         Grocery Store           Dance Studio  \n2             Hotel Bar     Italian Restaurant  \n3        Discount Store            Supermarket  \n4         Train Station  General Entertainment  "
                    }, 
                    "output_type": "execute_result"
                }
            ], 
            "source": "neighborhoods_venues_sorted.head()"
        }, 
        {
            "source": "### 4) Cluster the Neighborhoods", 
            "cell_type": "markdown", 
            "metadata": {}
        }, 
        {
            "source": "### Run K-means algorithm to cluster the neighborhood into 5 clusters.", 
            "cell_type": "markdown", 
            "metadata": {}
        }, 
        {
            "execution_count": 152, 
            "cell_type": "code", 
            "metadata": {}, 
            "outputs": [
                {
                    "execution_count": 152, 
                    "metadata": {}, 
                    "data": {
                        "text/html": "<div>\n<style scoped>\n    .dataframe tbody tr th:only-of-type {\n        vertical-align: middle;\n    }\n\n    .dataframe tbody tr th {\n        vertical-align: top;\n    }\n\n    .dataframe thead th {\n        text-align: right;\n    }\n</style>\n<table border=\"1\" class=\"dataframe\">\n  <thead>\n    <tr style=\"text-align: right;\">\n      <th></th>\n      <th>Neighborhood</th>\n      <th>Accessories Store</th>\n      <th>American Restaurant</th>\n      <th>Art Gallery</th>\n      <th>Asian Restaurant</th>\n      <th>Bakery</th>\n      <th>Bar</th>\n      <th>Boat or Ferry</th>\n      <th>Bookstore</th>\n      <th>Boutique</th>\n      <th>...</th>\n      <th>Tapas Restaurant</th>\n      <th>Tennis Court</th>\n      <th>Thai Restaurant</th>\n      <th>Theater</th>\n      <th>Toy / Game Store</th>\n      <th>Train Station</th>\n      <th>Tunnel</th>\n      <th>Turkish Restaurant</th>\n      <th>Warehouse Store</th>\n      <th>Wine Bar</th>\n    </tr>\n  </thead>\n  <tbody>\n    <tr>\n      <th>0</th>\n      <td>Beckton</td>\n      <td>0.0</td>\n      <td>0.000000</td>\n      <td>0.0</td>\n      <td>0.0</td>\n      <td>0.0000</td>\n      <td>0.0</td>\n      <td>0.0</td>\n      <td>0.0</td>\n      <td>0.0</td>\n      <td>...</td>\n      <td>0.000000</td>\n      <td>0.0</td>\n      <td>0.0</td>\n      <td>0.0</td>\n      <td>0.0</td>\n      <td>0.0</td>\n      <td>0.0</td>\n      <td>0.0</td>\n      <td>0.0000</td>\n      <td>0.000000</td>\n    </tr>\n    <tr>\n      <th>1</th>\n      <td>Canning Town</td>\n      <td>0.0</td>\n      <td>0.000000</td>\n      <td>0.0</td>\n      <td>0.0</td>\n      <td>0.0000</td>\n      <td>0.0</td>\n      <td>0.0</td>\n      <td>0.0</td>\n      <td>0.0</td>\n      <td>...</td>\n      <td>0.000000</td>\n      <td>0.2</td>\n      <td>0.0</td>\n      <td>0.0</td>\n      <td>0.0</td>\n      <td>0.0</td>\n      <td>0.0</td>\n      <td>0.0</td>\n      <td>0.0000</td>\n      <td>0.000000</td>\n    </tr>\n    <tr>\n      <th>2</th>\n      <td>Custom House</td>\n      <td>0.0</td>\n      <td>0.045455</td>\n      <td>0.0</td>\n      <td>0.0</td>\n      <td>0.0000</td>\n      <td>0.0</td>\n      <td>0.0</td>\n      <td>0.0</td>\n      <td>0.0</td>\n      <td>...</td>\n      <td>0.045455</td>\n      <td>0.0</td>\n      <td>0.0</td>\n      <td>0.0</td>\n      <td>0.0</td>\n      <td>0.0</td>\n      <td>0.0</td>\n      <td>0.0</td>\n      <td>0.0000</td>\n      <td>0.045455</td>\n    </tr>\n    <tr>\n      <th>3</th>\n      <td>East Ham</td>\n      <td>0.0</td>\n      <td>0.000000</td>\n      <td>0.0</td>\n      <td>0.0</td>\n      <td>0.0625</td>\n      <td>0.0</td>\n      <td>0.0</td>\n      <td>0.0</td>\n      <td>0.0</td>\n      <td>...</td>\n      <td>0.000000</td>\n      <td>0.0</td>\n      <td>0.0</td>\n      <td>0.0</td>\n      <td>0.0</td>\n      <td>0.0</td>\n      <td>0.0</td>\n      <td>0.0</td>\n      <td>0.0625</td>\n      <td>0.000000</td>\n    </tr>\n    <tr>\n      <th>4</th>\n      <td>Forest Gate</td>\n      <td>0.0</td>\n      <td>0.000000</td>\n      <td>0.0</td>\n      <td>0.0</td>\n      <td>0.1000</td>\n      <td>0.0</td>\n      <td>0.0</td>\n      <td>0.0</td>\n      <td>0.0</td>\n      <td>...</td>\n      <td>0.000000</td>\n      <td>0.0</td>\n      <td>0.0</td>\n      <td>0.0</td>\n      <td>0.0</td>\n      <td>0.1</td>\n      <td>0.0</td>\n      <td>0.0</td>\n      <td>0.0000</td>\n      <td>0.000000</td>\n    </tr>\n  </tbody>\n</table>\n<p>5 rows \u00d7 94 columns</p>\n</div>", 
                        "text/plain": "   Neighborhood  Accessories Store  American Restaurant  Art Gallery  \\\n0       Beckton                0.0             0.000000          0.0   \n1  Canning Town                0.0             0.000000          0.0   \n2  Custom House                0.0             0.045455          0.0   \n3      East Ham                0.0             0.000000          0.0   \n4   Forest Gate                0.0             0.000000          0.0   \n\n   Asian Restaurant  Bakery  Bar  Boat or Ferry  Bookstore  Boutique  \\\n0               0.0  0.0000  0.0            0.0        0.0       0.0   \n1               0.0  0.0000  0.0            0.0        0.0       0.0   \n2               0.0  0.0000  0.0            0.0        0.0       0.0   \n3               0.0  0.0625  0.0            0.0        0.0       0.0   \n4               0.0  0.1000  0.0            0.0        0.0       0.0   \n\n     ...     Tapas Restaurant  Tennis Court  Thai Restaurant  Theater  \\\n0    ...             0.000000           0.0              0.0      0.0   \n1    ...             0.000000           0.2              0.0      0.0   \n2    ...             0.045455           0.0              0.0      0.0   \n3    ...             0.000000           0.0              0.0      0.0   \n4    ...             0.000000           0.0              0.0      0.0   \n\n   Toy / Game Store  Train Station  Tunnel  Turkish Restaurant  \\\n0               0.0            0.0     0.0                 0.0   \n1               0.0            0.0     0.0                 0.0   \n2               0.0            0.0     0.0                 0.0   \n3               0.0            0.0     0.0                 0.0   \n4               0.0            0.1     0.0                 0.0   \n\n   Warehouse Store  Wine Bar  \n0           0.0000  0.000000  \n1           0.0000  0.000000  \n2           0.0000  0.045455  \n3           0.0625  0.000000  \n4           0.0000  0.000000  \n\n[5 rows x 94 columns]"
                    }, 
                    "output_type": "execute_result"
                }
            ], 
            "source": "Newham_grouped.head()"
        }, 
        {
            "execution_count": 153, 
            "cell_type": "code", 
            "metadata": {}, 
            "outputs": [
                {
                    "execution_count": 153, 
                    "metadata": {}, 
                    "data": {
                        "text/plain": "array([1, 1, 1, 1, 1, 3, 4, 1, 1, 0], dtype=int32)"
                    }, 
                    "output_type": "execute_result"
                }
            ], 
            "source": "# set number of clusters\nkclusters = 5\nNewham_grouped_clustering = Newham_grouped.drop('Neighborhood', 1)\n\n# run k-means clustering\nkmeans = KMeans(n_clusters=kclusters, random_state=0).fit(Newham_grouped_clustering)\n\n# check cluster labels generated for each row in the dataframe\nkmeans.labels_[0:10] "
        }, 
        {
            "execution_count": 154, 
            "cell_type": "code", 
            "metadata": {}, 
            "outputs": [
                {
                    "execution_count": 154, 
                    "metadata": {}, 
                    "data": {
                        "text/plain": "KMeans(algorithm='auto', copy_x=True, init='k-means++', max_iter=300,\n    n_clusters=5, n_init=10, n_jobs=1, precompute_distances='auto',\n    random_state=0, tol=0.0001, verbose=0)"
                    }, 
                    "output_type": "execute_result"
                }
            ], 
            "source": "kmeans"
        }, 
        {
            "source": "#### Let's create a new dataframe that includes the cluster as well as the top 10 venues for each neighborhood.", 
            "cell_type": "markdown", 
            "metadata": {}
        }, 
        {
            "execution_count": 155, 
            "cell_type": "code", 
            "metadata": {}, 
            "outputs": [
                {
                    "execution_count": 155, 
                    "metadata": {}, 
                    "data": {
                        "text/html": "<div>\n<style scoped>\n    .dataframe tbody tr th:only-of-type {\n        vertical-align: middle;\n    }\n\n    .dataframe tbody tr th {\n        vertical-align: top;\n    }\n\n    .dataframe thead th {\n        text-align: right;\n    }\n</style>\n<table border=\"1\" class=\"dataframe\">\n  <thead>\n    <tr style=\"text-align: right;\">\n      <th></th>\n      <th>Borough</th>\n      <th>Neighborhood</th>\n      <th>Latitude</th>\n      <th>Longitude</th>\n      <th>Cluster Labels</th>\n      <th>1st Most Common Venue</th>\n      <th>2nd Most Common Venue</th>\n      <th>3rd Most Common Venue</th>\n      <th>4th Most Common Venue</th>\n      <th>5th Most Common Venue</th>\n      <th>6th Most Common Venue</th>\n      <th>7th Most Common Venue</th>\n      <th>8th Most Common Venue</th>\n      <th>9th Most Common Venue</th>\n      <th>10th Most Common Venue</th>\n    </tr>\n  </thead>\n  <tbody>\n    <tr>\n      <th>0</th>\n      <td>Newham</td>\n      <td>Beckton</td>\n      <td>51.514642</td>\n      <td>0.067375</td>\n      <td>1</td>\n      <td>Hotel</td>\n      <td>Furniture / Home Store</td>\n      <td>Clothing Store</td>\n      <td>Discount Store</td>\n      <td>Pub</td>\n      <td>Light Rail Station</td>\n      <td>Shopping Plaza</td>\n      <td>Grocery Store</td>\n      <td>Gas Station</td>\n      <td>General Entertainment</td>\n    </tr>\n    <tr>\n      <th>1</th>\n      <td>Newham</td>\n      <td>Canning Town</td>\n      <td>51.515396</td>\n      <td>0.024169</td>\n      <td>1</td>\n      <td>Convenience Store</td>\n      <td>Gas Station</td>\n      <td>Construction &amp; Landscaping</td>\n      <td>Tennis Court</td>\n      <td>Park</td>\n      <td>Gift Shop</td>\n      <td>General Entertainment</td>\n      <td>Creperie</td>\n      <td>Grocery Store</td>\n      <td>Dance Studio</td>\n    </tr>\n    <tr>\n      <th>2</th>\n      <td>Newham</td>\n      <td>Custom House</td>\n      <td>51.508133</td>\n      <td>0.028171</td>\n      <td>1</td>\n      <td>Hotel</td>\n      <td>Chinese Restaurant</td>\n      <td>Pub</td>\n      <td>Scenic Lookout</td>\n      <td>American Restaurant</td>\n      <td>Bridge</td>\n      <td>Coffee Shop</td>\n      <td>Gym / Fitness Center</td>\n      <td>Hotel Bar</td>\n      <td>Italian Restaurant</td>\n    </tr>\n    <tr>\n      <th>3</th>\n      <td>Newham</td>\n      <td>East Ham</td>\n      <td>51.532867</td>\n      <td>0.053782</td>\n      <td>1</td>\n      <td>Clothing Store</td>\n      <td>Fast Food Restaurant</td>\n      <td>Gym Pool</td>\n      <td>Warehouse Store</td>\n      <td>Bakery</td>\n      <td>Grocery Store</td>\n      <td>Park</td>\n      <td>Pub</td>\n      <td>Discount Store</td>\n      <td>Supermarket</td>\n    </tr>\n    <tr>\n      <th>4</th>\n      <td>Newham</td>\n      <td>Forest Gate</td>\n      <td>51.551339</td>\n      <td>0.025765</td>\n      <td>1</td>\n      <td>Grocery Store</td>\n      <td>Italian Restaurant</td>\n      <td>Moving Target</td>\n      <td>Chinese Restaurant</td>\n      <td>Pub</td>\n      <td>Fast Food Restaurant</td>\n      <td>Flower Shop</td>\n      <td>Bakery</td>\n      <td>Train Station</td>\n      <td>General Entertainment</td>\n    </tr>\n  </tbody>\n</table>\n</div>", 
                        "text/plain": "  Borough  Neighborhood   Latitude  Longitude  Cluster Labels  \\\n0  Newham       Beckton  51.514642   0.067375               1   \n1  Newham  Canning Town  51.515396   0.024169               1   \n2  Newham  Custom House  51.508133   0.028171               1   \n3  Newham      East Ham  51.532867   0.053782               1   \n4  Newham   Forest Gate  51.551339   0.025765               1   \n\n  1st Most Common Venue   2nd Most Common Venue       3rd Most Common Venue  \\\n0                 Hotel  Furniture / Home Store              Clothing Store   \n1     Convenience Store             Gas Station  Construction & Landscaping   \n2                 Hotel      Chinese Restaurant                         Pub   \n3        Clothing Store    Fast Food Restaurant                    Gym Pool   \n4         Grocery Store      Italian Restaurant               Moving Target   \n\n  4th Most Common Venue 5th Most Common Venue 6th Most Common Venue  \\\n0        Discount Store                   Pub    Light Rail Station   \n1          Tennis Court                  Park             Gift Shop   \n2        Scenic Lookout   American Restaurant                Bridge   \n3       Warehouse Store                Bakery         Grocery Store   \n4    Chinese Restaurant                   Pub  Fast Food Restaurant   \n\n   7th Most Common Venue 8th Most Common Venue 9th Most Common Venue  \\\n0         Shopping Plaza         Grocery Store           Gas Station   \n1  General Entertainment              Creperie         Grocery Store   \n2            Coffee Shop  Gym / Fitness Center             Hotel Bar   \n3                   Park                   Pub        Discount Store   \n4            Flower Shop                Bakery         Train Station   \n\n  10th Most Common Venue  \n0  General Entertainment  \n1           Dance Studio  \n2     Italian Restaurant  \n3            Supermarket  \n4  General Entertainment  "
                    }, 
                    "output_type": "execute_result"
                }
            ], 
            "source": "Newham_merged = Newham_borough\n# add clustering labels\nNewham_merged['Cluster Labels'] = kmeans.labels_\n\n# merge Neighborhoods dataframe with Newham borough dataframe to add latitude/longitude for each neighborhood\nNewham_merged = Newham_merged.join(neighborhoods_venues_sorted.set_index('Neighborhood'), on='Neighborhood')\n\nNewham_merged.head() # check the last columns!"
        }, 
        {
            "source": "#### Let's Visualize the Cluster ", 
            "cell_type": "markdown", 
            "metadata": {}
        }, 
        {
            "execution_count": 156, 
            "cell_type": "code", 
            "metadata": {
                "scrolled": true
            }, 
            "outputs": [
                {
                    "execution_count": 156, 
                    "metadata": {}, 
                    "data": {
                        "text/html": "<div style=\"width:100%;\"><div style=\"position:relative;width:100%;height:0;padding-bottom:60%;\"><iframe src=\"data:text/html;charset=utf-8;base64,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\" style=\"position:absolute;width:100%;height:100%;left:0;top:0;border:none !important;\" allowfullscreen webkitallowfullscreen mozallowfullscreen></iframe></div></div>", 
                        "text/plain": "<folium.folium.Map at 0x7fa67456f9e8>"
                    }, 
                    "output_type": "execute_result"
                }
            ], 
            "source": "# create map\nmap_clusters = folium.Map(location=[latitude, longitude], zoom_start=11)\n\n# set color scheme for the clusters\nx = np.arange(kclusters)\ny = [i+x+(i*x)**2 for i in range(kclusters)]\ncolors_array = cm.rainbow(np.linspace(0, 1, len(y)))\nrainbow = [colors.rgb2hex(i) for i in colors_array]\n\n# add markers to the map\nmarkers_colors = []\nfor lat, lon, poi, cluster in zip(Newham_merged['Latitude'], Newham_merged['Longitude'], Newham_merged['Neighborhood'], Newham_merged['Cluster Labels']):\n    label = folium.Popup(str(poi) + ' Cluster ' + str(cluster), parse_html=True)\n    folium.CircleMarker(\n        [lat, lon],\n        radius=5,\n        popup=label,\n        color=rainbow[cluster-1],\n        fill=True,\n        fill_color=rainbow[cluster-1],\n        fill_opacity=0.7).add_to(map_clusters)\n       \nmap_clusters"
        }, 
        {
            "source": "### 5) Examine the Clusters", 
            "cell_type": "markdown", 
            "metadata": {}
        }, 
        {
            "execution_count": 157, 
            "cell_type": "code", 
            "metadata": {}, 
            "outputs": [
                {
                    "execution_count": 157, 
                    "metadata": {}, 
                    "data": {
                        "text/html": "<div>\n<style scoped>\n    .dataframe tbody tr th:only-of-type {\n        vertical-align: middle;\n    }\n\n    .dataframe tbody tr th {\n        vertical-align: top;\n    }\n\n    .dataframe thead th {\n        text-align: right;\n    }\n</style>\n<table border=\"1\" class=\"dataframe\">\n  <thead>\n    <tr style=\"text-align: right;\">\n      <th></th>\n      <th>Neighborhood</th>\n      <th>1st Most Common Venue</th>\n      <th>2nd Most Common Venue</th>\n      <th>3rd Most Common Venue</th>\n      <th>4th Most Common Venue</th>\n      <th>5th Most Common Venue</th>\n      <th>6th Most Common Venue</th>\n      <th>7th Most Common Venue</th>\n      <th>8th Most Common Venue</th>\n      <th>9th Most Common Venue</th>\n      <th>10th Most Common Venue</th>\n    </tr>\n  </thead>\n  <tbody>\n    <tr>\n      <th>9</th>\n      <td>Plaistow</td>\n      <td>Park</td>\n      <td>Caf\u00e9</td>\n      <td>Indian Restaurant</td>\n      <td>Bus Stop</td>\n      <td>Gym / Fitness Center</td>\n      <td>Grocery Store</td>\n      <td>Go Kart Track</td>\n      <td>Gift Shop</td>\n      <td>Dance Studio</td>\n      <td>Department Store</td>\n    </tr>\n    <tr>\n      <th>10</th>\n      <td>Silvertown</td>\n      <td>Park</td>\n      <td>Theater</td>\n      <td>Gym / Fitness Center</td>\n      <td>Museum</td>\n      <td>Caf\u00e9</td>\n      <td>Paintball Field</td>\n      <td>Go Kart Track</td>\n      <td>General Entertainment</td>\n      <td>Gas Station</td>\n      <td>Greek Restaurant</td>\n    </tr>\n  </tbody>\n</table>\n</div>", 
                        "text/plain": "   Neighborhood 1st Most Common Venue 2nd Most Common Venue  \\\n9      Plaistow                  Park                  Caf\u00e9   \n10   Silvertown                  Park               Theater   \n\n   3rd Most Common Venue 4th Most Common Venue 5th Most Common Venue  \\\n9      Indian Restaurant              Bus Stop  Gym / Fitness Center   \n10  Gym / Fitness Center                Museum                  Caf\u00e9   \n\n   6th Most Common Venue 7th Most Common Venue  8th Most Common Venue  \\\n9          Grocery Store         Go Kart Track              Gift Shop   \n10       Paintball Field         Go Kart Track  General Entertainment   \n\n   9th Most Common Venue 10th Most Common Venue  \n9           Dance Studio       Department Store  \n10           Gas Station       Greek Restaurant  "
                    }, 
                    "output_type": "execute_result"
                }
            ], 
            "source": "Newham_merged.loc[Newham_merged['Cluster Labels'] == 0, Newham_merged.columns[[1] + list(range(5, Newham_merged.shape[1]))]]"
        }, 
        {
            "execution_count": 158, 
            "cell_type": "code", 
            "metadata": {}, 
            "outputs": [
                {
                    "execution_count": 158, 
                    "metadata": {}, 
                    "data": {
                        "text/html": "<div>\n<style scoped>\n    .dataframe tbody tr th:only-of-type {\n        vertical-align: middle;\n    }\n\n    .dataframe tbody tr th {\n        vertical-align: top;\n    }\n\n    .dataframe thead th {\n        text-align: right;\n    }\n</style>\n<table border=\"1\" class=\"dataframe\">\n  <thead>\n    <tr style=\"text-align: right;\">\n      <th></th>\n      <th>Neighborhood</th>\n      <th>1st Most Common Venue</th>\n      <th>2nd Most Common Venue</th>\n      <th>3rd Most Common Venue</th>\n      <th>4th Most Common Venue</th>\n      <th>5th Most Common Venue</th>\n      <th>6th Most Common Venue</th>\n      <th>7th Most Common Venue</th>\n      <th>8th Most Common Venue</th>\n      <th>9th Most Common Venue</th>\n      <th>10th Most Common Venue</th>\n    </tr>\n  </thead>\n  <tbody>\n    <tr>\n      <th>0</th>\n      <td>Beckton</td>\n      <td>Hotel</td>\n      <td>Furniture / Home Store</td>\n      <td>Clothing Store</td>\n      <td>Discount Store</td>\n      <td>Pub</td>\n      <td>Light Rail Station</td>\n      <td>Shopping Plaza</td>\n      <td>Grocery Store</td>\n      <td>Gas Station</td>\n      <td>General Entertainment</td>\n    </tr>\n    <tr>\n      <th>1</th>\n      <td>Canning Town</td>\n      <td>Convenience Store</td>\n      <td>Gas Station</td>\n      <td>Construction &amp; Landscaping</td>\n      <td>Tennis Court</td>\n      <td>Park</td>\n      <td>Gift Shop</td>\n      <td>General Entertainment</td>\n      <td>Creperie</td>\n      <td>Grocery Store</td>\n      <td>Dance Studio</td>\n    </tr>\n    <tr>\n      <th>2</th>\n      <td>Custom House</td>\n      <td>Hotel</td>\n      <td>Chinese Restaurant</td>\n      <td>Pub</td>\n      <td>Scenic Lookout</td>\n      <td>American Restaurant</td>\n      <td>Bridge</td>\n      <td>Coffee Shop</td>\n      <td>Gym / Fitness Center</td>\n      <td>Hotel Bar</td>\n      <td>Italian Restaurant</td>\n    </tr>\n    <tr>\n      <th>3</th>\n      <td>East Ham</td>\n      <td>Clothing Store</td>\n      <td>Fast Food Restaurant</td>\n      <td>Gym Pool</td>\n      <td>Warehouse Store</td>\n      <td>Bakery</td>\n      <td>Grocery Store</td>\n      <td>Park</td>\n      <td>Pub</td>\n      <td>Discount Store</td>\n      <td>Supermarket</td>\n    </tr>\n    <tr>\n      <th>4</th>\n      <td>Forest Gate</td>\n      <td>Grocery Store</td>\n      <td>Italian Restaurant</td>\n      <td>Moving Target</td>\n      <td>Chinese Restaurant</td>\n      <td>Pub</td>\n      <td>Fast Food Restaurant</td>\n      <td>Flower Shop</td>\n      <td>Bakery</td>\n      <td>Train Station</td>\n      <td>General Entertainment</td>\n    </tr>\n    <tr>\n      <th>7</th>\n      <td>Maryland</td>\n      <td>Hotel</td>\n      <td>Bus Stop</td>\n      <td>Pub</td>\n      <td>Grocery Store</td>\n      <td>Supermarket</td>\n      <td>Liquor Store</td>\n      <td>Eastern European Restaurant</td>\n      <td>Caf\u00e9</td>\n      <td>Portuguese Restaurant</td>\n      <td>Dance Studio</td>\n    </tr>\n    <tr>\n      <th>8</th>\n      <td>North Woolwich</td>\n      <td>Pier</td>\n      <td>History Museum</td>\n      <td>Hotel</td>\n      <td>Scenic Lookout</td>\n      <td>Grocery Store</td>\n      <td>Gym / Fitness Center</td>\n      <td>Italian Restaurant</td>\n      <td>Clothing Store</td>\n      <td>Chinese Restaurant</td>\n      <td>Pharmacy</td>\n    </tr>\n    <tr>\n      <th>11</th>\n      <td>Stratford</td>\n      <td>Pub</td>\n      <td>Sandwich Place</td>\n      <td>Hotel</td>\n      <td>Pizza Place</td>\n      <td>Toy / Game Store</td>\n      <td>Bar</td>\n      <td>Bookstore</td>\n      <td>Cosmetics Shop</td>\n      <td>Burger Joint</td>\n      <td>Fast Food Restaurant</td>\n    </tr>\n  </tbody>\n</table>\n</div>", 
                        "text/plain": "      Neighborhood 1st Most Common Venue   2nd Most Common Venue  \\\n0          Beckton                 Hotel  Furniture / Home Store   \n1     Canning Town     Convenience Store             Gas Station   \n2     Custom House                 Hotel      Chinese Restaurant   \n3         East Ham        Clothing Store    Fast Food Restaurant   \n4      Forest Gate         Grocery Store      Italian Restaurant   \n7         Maryland                 Hotel                Bus Stop   \n8   North Woolwich                  Pier          History Museum   \n11       Stratford                   Pub          Sandwich Place   \n\n         3rd Most Common Venue 4th Most Common Venue 5th Most Common Venue  \\\n0               Clothing Store        Discount Store                   Pub   \n1   Construction & Landscaping          Tennis Court                  Park   \n2                          Pub        Scenic Lookout   American Restaurant   \n3                     Gym Pool       Warehouse Store                Bakery   \n4                Moving Target    Chinese Restaurant                   Pub   \n7                          Pub         Grocery Store           Supermarket   \n8                        Hotel        Scenic Lookout         Grocery Store   \n11                       Hotel           Pizza Place      Toy / Game Store   \n\n   6th Most Common Venue        7th Most Common Venue 8th Most Common Venue  \\\n0     Light Rail Station               Shopping Plaza         Grocery Store   \n1              Gift Shop        General Entertainment              Creperie   \n2                 Bridge                  Coffee Shop  Gym / Fitness Center   \n3          Grocery Store                         Park                   Pub   \n4   Fast Food Restaurant                  Flower Shop                Bakery   \n7           Liquor Store  Eastern European Restaurant                  Caf\u00e9   \n8   Gym / Fitness Center           Italian Restaurant        Clothing Store   \n11                   Bar                    Bookstore        Cosmetics Shop   \n\n    9th Most Common Venue 10th Most Common Venue  \n0             Gas Station  General Entertainment  \n1           Grocery Store           Dance Studio  \n2               Hotel Bar     Italian Restaurant  \n3          Discount Store            Supermarket  \n4           Train Station  General Entertainment  \n7   Portuguese Restaurant           Dance Studio  \n8      Chinese Restaurant               Pharmacy  \n11           Burger Joint   Fast Food Restaurant  "
                    }, 
                    "output_type": "execute_result"
                }
            ], 
            "source": "Newham_merged.loc[Newham_merged['Cluster Labels'] == 1, Newham_merged.columns[[1] + list(range(5, Newham_merged.shape[1]))]]"
        }, 
        {
            "execution_count": 159, 
            "cell_type": "code", 
            "metadata": {}, 
            "outputs": [
                {
                    "execution_count": 159, 
                    "metadata": {}, 
                    "data": {
                        "text/html": "<div>\n<style scoped>\n    .dataframe tbody tr th:only-of-type {\n        vertical-align: middle;\n    }\n\n    .dataframe tbody tr th {\n        vertical-align: top;\n    }\n\n    .dataframe thead th {\n        text-align: right;\n    }\n</style>\n<table border=\"1\" class=\"dataframe\">\n  <thead>\n    <tr style=\"text-align: right;\">\n      <th></th>\n      <th>Neighborhood</th>\n      <th>1st Most Common Venue</th>\n      <th>2nd Most Common Venue</th>\n      <th>3rd Most Common Venue</th>\n      <th>4th Most Common Venue</th>\n      <th>5th Most Common Venue</th>\n      <th>6th Most Common Venue</th>\n      <th>7th Most Common Venue</th>\n      <th>8th Most Common Venue</th>\n      <th>9th Most Common Venue</th>\n      <th>10th Most Common Venue</th>\n    </tr>\n  </thead>\n  <tbody>\n    <tr>\n      <th>12</th>\n      <td>Upton Park</td>\n      <td>Convenience Store</td>\n      <td>Pub</td>\n      <td>Boutique</td>\n      <td>Bus Stop</td>\n      <td>Bus Line</td>\n      <td>Flower Shop</td>\n      <td>Dessert Shop</td>\n      <td>Discount Store</td>\n      <td>Doner Restaurant</td>\n      <td>Eastern European Restaurant</td>\n    </tr>\n    <tr>\n      <th>13</th>\n      <td>West Ham</td>\n      <td>Convenience Store</td>\n      <td>Pub</td>\n      <td>Boutique</td>\n      <td>Bus Stop</td>\n      <td>Bus Line</td>\n      <td>Flower Shop</td>\n      <td>Dessert Shop</td>\n      <td>Discount Store</td>\n      <td>Doner Restaurant</td>\n      <td>Eastern European Restaurant</td>\n    </tr>\n  </tbody>\n</table>\n</div>", 
                        "text/plain": "   Neighborhood 1st Most Common Venue 2nd Most Common Venue  \\\n12   Upton Park     Convenience Store                   Pub   \n13     West Ham     Convenience Store                   Pub   \n\n   3rd Most Common Venue 4th Most Common Venue 5th Most Common Venue  \\\n12              Boutique              Bus Stop              Bus Line   \n13              Boutique              Bus Stop              Bus Line   \n\n   6th Most Common Venue 7th Most Common Venue 8th Most Common Venue  \\\n12           Flower Shop          Dessert Shop        Discount Store   \n13           Flower Shop          Dessert Shop        Discount Store   \n\n   9th Most Common Venue       10th Most Common Venue  \n12      Doner Restaurant  Eastern European Restaurant  \n13      Doner Restaurant  Eastern European Restaurant  "
                    }, 
                    "output_type": "execute_result"
                }
            ], 
            "source": "Newham_merged.loc[Newham_merged['Cluster Labels'] == 2, Newham_merged.columns[[1] + list(range(5, Newham_merged.shape[1]))]]"
        }, 
        {
            "execution_count": 160, 
            "cell_type": "code", 
            "metadata": {}, 
            "outputs": [
                {
                    "execution_count": 160, 
                    "metadata": {}, 
                    "data": {
                        "text/html": "<div>\n<style scoped>\n    .dataframe tbody tr th:only-of-type {\n        vertical-align: middle;\n    }\n\n    .dataframe tbody tr th {\n        vertical-align: top;\n    }\n\n    .dataframe thead th {\n        text-align: right;\n    }\n</style>\n<table border=\"1\" class=\"dataframe\">\n  <thead>\n    <tr style=\"text-align: right;\">\n      <th></th>\n      <th>Neighborhood</th>\n      <th>1st Most Common Venue</th>\n      <th>2nd Most Common Venue</th>\n      <th>3rd Most Common Venue</th>\n      <th>4th Most Common Venue</th>\n      <th>5th Most Common Venue</th>\n      <th>6th Most Common Venue</th>\n      <th>7th Most Common Venue</th>\n      <th>8th Most Common Venue</th>\n      <th>9th Most Common Venue</th>\n      <th>10th Most Common Venue</th>\n    </tr>\n  </thead>\n  <tbody>\n    <tr>\n      <th>5</th>\n      <td>Little Ilford</td>\n      <td>Fried Chicken Joint</td>\n      <td>Grocery Store</td>\n      <td>Ice Cream Shop</td>\n      <td>Indian Restaurant</td>\n      <td>Flower Shop</td>\n      <td>Department Store</td>\n      <td>Dessert Shop</td>\n      <td>Discount Store</td>\n      <td>Doner Restaurant</td>\n      <td>Eastern European Restaurant</td>\n    </tr>\n  </tbody>\n</table>\n</div>", 
                        "text/plain": "    Neighborhood 1st Most Common Venue 2nd Most Common Venue  \\\n5  Little Ilford   Fried Chicken Joint         Grocery Store   \n\n  3rd Most Common Venue 4th Most Common Venue 5th Most Common Venue  \\\n5        Ice Cream Shop     Indian Restaurant           Flower Shop   \n\n  6th Most Common Venue 7th Most Common Venue 8th Most Common Venue  \\\n5      Department Store          Dessert Shop        Discount Store   \n\n  9th Most Common Venue       10th Most Common Venue  \n5      Doner Restaurant  Eastern European Restaurant  "
                    }, 
                    "output_type": "execute_result"
                }
            ], 
            "source": "Newham_merged.loc[Newham_merged['Cluster Labels'] == 3, Newham_merged.columns[[1] + list(range(5, Newham_merged.shape[1]))]]"
        }, 
        {
            "execution_count": 161, 
            "cell_type": "code", 
            "metadata": {}, 
            "outputs": [
                {
                    "execution_count": 161, 
                    "metadata": {}, 
                    "data": {
                        "text/html": "<div>\n<style scoped>\n    .dataframe tbody tr th:only-of-type {\n        vertical-align: middle;\n    }\n\n    .dataframe tbody tr th {\n        vertical-align: top;\n    }\n\n    .dataframe thead th {\n        text-align: right;\n    }\n</style>\n<table border=\"1\" class=\"dataframe\">\n  <thead>\n    <tr style=\"text-align: right;\">\n      <th></th>\n      <th>Neighborhood</th>\n      <th>1st Most Common Venue</th>\n      <th>2nd Most Common Venue</th>\n      <th>3rd Most Common Venue</th>\n      <th>4th Most Common Venue</th>\n      <th>5th Most Common Venue</th>\n      <th>6th Most Common Venue</th>\n      <th>7th Most Common Venue</th>\n      <th>8th Most Common Venue</th>\n      <th>9th Most Common Venue</th>\n      <th>10th Most Common Venue</th>\n    </tr>\n  </thead>\n  <tbody>\n    <tr>\n      <th>6</th>\n      <td>Manor Park</td>\n      <td>Gym / Fitness Center</td>\n      <td>Turkish Restaurant</td>\n      <td>Clothing Store</td>\n      <td>Indian Restaurant</td>\n      <td>Restaurant</td>\n      <td>Fish &amp; Chips Shop</td>\n      <td>Department Store</td>\n      <td>Dessert Shop</td>\n      <td>Discount Store</td>\n      <td>Doner Restaurant</td>\n    </tr>\n  </tbody>\n</table>\n</div>", 
                        "text/plain": "  Neighborhood 1st Most Common Venue 2nd Most Common Venue  \\\n6   Manor Park  Gym / Fitness Center    Turkish Restaurant   \n\n  3rd Most Common Venue 4th Most Common Venue 5th Most Common Venue  \\\n6        Clothing Store     Indian Restaurant            Restaurant   \n\n  6th Most Common Venue 7th Most Common Venue 8th Most Common Venue  \\\n6     Fish & Chips Shop      Department Store          Dessert Shop   \n\n  9th Most Common Venue 10th Most Common Venue  \n6        Discount Store       Doner Restaurant  "
                    }, 
                    "output_type": "execute_result"
                }
            ], 
            "source": "Newham_merged.loc[Newham_merged['Cluster Labels'] == 4, Newham_merged.columns[[1] + list(range(5, Newham_merged.shape[1]))]]"
        }, 
        {
            "source": "### Conclusion: After examining the above 5 clusters, we can recommend our stakeholders that Beckton,Custom House, Maryland, Eastham and Manor Park are the best neighborhoods in Newham borough, to open their asian restuarant. This is because in these areas, the most common venue visited by the public is the restuarants and as these areas are highly populated with asians, opening an asian restuarant would definitley be a good idea.", 
            "cell_type": "markdown", 
            "metadata": {}
        }
    ], 
    "metadata": {
        "kernelspec": {
            "display_name": "Python 3.5", 
            "name": "python3", 
            "language": "python"
        }, 
        "language_info": {
            "mimetype": "text/x-python", 
            "nbconvert_exporter": "python", 
            "version": "3.5.5", 
            "name": "python", 
            "file_extension": ".py", 
            "pygments_lexer": "ipython3", 
            "codemirror_mode": {
                "version": 3, 
                "name": "ipython"
            }
        }
    }, 
    "nbformat": 4
}